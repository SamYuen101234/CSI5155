{
 "cells": [
  {
   "cell_type": "code",
   "execution_count": 1,
   "metadata": {
    "canvas": {
     "comments": [],
     "componentType": "CodeCell",
     "copiedOriginId": null,
     "diskcache": false,
     "headerColor": "none",
     "id": "7bafa6eb-cee9-495c-9685-617d7f479463",
     "isComponent": false,
     "name": "",
     "parents": []
    },
    "tags": []
   },
   "outputs": [],
   "source": [
    "import pandas as pd\n",
    "from sklearn.model_selection import train_test_split, RandomizedSearchCV\n",
    "from sklearn.feature_selection import SelectKBest, chi2, mutual_info_classif\n",
    "from sklearn.preprocessing import OrdinalEncoder, MinMaxScaler\n",
    "from sklearn.pipeline import Pipeline\n",
    "from sklearn.tree import DecisionTreeClassifier\n",
    "from sklearn.svm import SVC\n",
    "from sklearn.metrics import recall_score, confusion_matrix, ConfusionMatrixDisplay, precision_score, roc_auc_score, roc_curve\n",
    "from sklearn.ensemble import RandomForestClassifier\n",
    "from sklearn.neighbors import KNeighborsClassifier\n",
    "\n",
    "import matplotlib.pyplot as plt\n",
    "import time\n",
    "import numpy as np"
   ]
  },
  {
   "cell_type": "code",
   "execution_count": 2,
   "metadata": {
    "canvas": {
     "comments": [],
     "componentType": "CodeCell",
     "copiedOriginId": null,
     "diskcache": false,
     "headerColor": "none",
     "id": "3ea79c52-bb30-4cb0-ae99-41d9a9631e6a",
     "isComponent": false,
     "name": "",
     "parents": []
    }
   },
   "outputs": [],
   "source": [
    "from unicodedata import name\n",
    "\n",
    "\n",
    "columns = [\n",
    "           \"ID\", \"Age\", \"Gender\", \"Education\", \"Country\", \n",
    "           \"Ethnicity\", \"Nscore\", \"Escore\", \"Oscore\", \n",
    "           \"Ascore\", \"Cscore\", \"Impulsive\", \"SS\", \n",
    "           \"Alcohol\", \"Amphet\", \"Amyl\", \"Benzos\", \n",
    "           \"Caff\", \"Cannabis\", \"Choc\", \"Coke\", \n",
    "           \"Crack\", \"Ecstasy\", \"Heroin\", \"Ketamine\", \n",
    "           \"Legalh\", \"LSD\", \"Meth\", \"Mushrooms\", \n",
    "           \"Nicotine\", \"Semer\", \"VSA\"\n",
    "           ]\n",
    "\n",
    "data = pd.read_csv(\"drug_consumption.data\", header = None, names=columns)"
   ]
  },
  {
   "cell_type": "code",
   "execution_count": 3,
   "metadata": {
    "canvas": {
     "comments": [],
     "componentType": "CodeCell",
     "copiedOriginId": null,
     "diskcache": false,
     "headerColor": "none",
     "id": "d8e310a9-c74d-4b7a-bc4a-704577b6af82",
     "isComponent": false,
     "name": "",
     "parents": []
    }
   },
   "outputs": [
    {
     "data": {
      "text/plain": [
       "0"
      ]
     },
     "execution_count": 3,
     "metadata": {},
     "output_type": "execute_result"
    }
   ],
   "source": [
    "# checking nan data\n",
    "data.isna().sum().sum()"
   ]
  },
  {
   "cell_type": "code",
   "execution_count": 4,
   "metadata": {
    "canvas": {
     "comments": [],
     "componentType": "CodeCell",
     "copiedOriginId": null,
     "diskcache": false,
     "headerColor": "none",
     "id": "0ded9d6a-c1ef-42af-90f5-99e7586924e1",
     "isComponent": false,
     "name": "",
     "parents": []
    }
   },
   "outputs": [],
   "source": [
    "features = data.iloc[:,1:13]"
   ]
  },
  {
   "cell_type": "code",
   "execution_count": 5,
   "metadata": {
    "canvas": {
     "comments": [],
     "componentType": "CodeCell",
     "copiedOriginId": null,
     "diskcache": false,
     "headerColor": "none",
     "id": "ce13201a-2750-4454-a1fc-cd3356767aac",
     "isComponent": false,
     "name": "",
     "parents": []
    }
   },
   "outputs": [
    {
     "data": {
      "text/html": [
       "<div>\n",
       "<style scoped>\n",
       "    .dataframe tbody tr th:only-of-type {\n",
       "        vertical-align: middle;\n",
       "    }\n",
       "\n",
       "    .dataframe tbody tr th {\n",
       "        vertical-align: top;\n",
       "    }\n",
       "\n",
       "    .dataframe thead th {\n",
       "        text-align: right;\n",
       "    }\n",
       "</style>\n",
       "<table border=\"1\" class=\"dataframe\">\n",
       "  <thead>\n",
       "    <tr style=\"text-align: right;\">\n",
       "      <th></th>\n",
       "      <th>USA</th>\n",
       "      <th>New Zealand</th>\n",
       "      <th>Country_Other</th>\n",
       "      <th>Australia</th>\n",
       "      <th>Ireland</th>\n",
       "      <th>Canada</th>\n",
       "      <th>UK</th>\n",
       "      <th>Black</th>\n",
       "      <th>Asian</th>\n",
       "      <th>White</th>\n",
       "      <th>Mixed-White/Black</th>\n",
       "      <th>Ethnicity_Other</th>\n",
       "      <th>Mixed-White/Asian</th>\n",
       "      <th>Mixed-Black/Asian</th>\n",
       "    </tr>\n",
       "  </thead>\n",
       "  <tbody>\n",
       "    <tr>\n",
       "      <th>0</th>\n",
       "      <td>0</td>\n",
       "      <td>0</td>\n",
       "      <td>0</td>\n",
       "      <td>0</td>\n",
       "      <td>0</td>\n",
       "      <td>0</td>\n",
       "      <td>1</td>\n",
       "      <td>0</td>\n",
       "      <td>0</td>\n",
       "      <td>0</td>\n",
       "      <td>0</td>\n",
       "      <td>0</td>\n",
       "      <td>1</td>\n",
       "      <td>0</td>\n",
       "    </tr>\n",
       "    <tr>\n",
       "      <th>1</th>\n",
       "      <td>0</td>\n",
       "      <td>0</td>\n",
       "      <td>0</td>\n",
       "      <td>0</td>\n",
       "      <td>0</td>\n",
       "      <td>0</td>\n",
       "      <td>1</td>\n",
       "      <td>0</td>\n",
       "      <td>0</td>\n",
       "      <td>1</td>\n",
       "      <td>0</td>\n",
       "      <td>0</td>\n",
       "      <td>0</td>\n",
       "      <td>0</td>\n",
       "    </tr>\n",
       "    <tr>\n",
       "      <th>2</th>\n",
       "      <td>0</td>\n",
       "      <td>0</td>\n",
       "      <td>0</td>\n",
       "      <td>0</td>\n",
       "      <td>0</td>\n",
       "      <td>0</td>\n",
       "      <td>1</td>\n",
       "      <td>0</td>\n",
       "      <td>0</td>\n",
       "      <td>1</td>\n",
       "      <td>0</td>\n",
       "      <td>0</td>\n",
       "      <td>0</td>\n",
       "      <td>0</td>\n",
       "    </tr>\n",
       "    <tr>\n",
       "      <th>3</th>\n",
       "      <td>0</td>\n",
       "      <td>0</td>\n",
       "      <td>0</td>\n",
       "      <td>0</td>\n",
       "      <td>0</td>\n",
       "      <td>0</td>\n",
       "      <td>1</td>\n",
       "      <td>0</td>\n",
       "      <td>0</td>\n",
       "      <td>1</td>\n",
       "      <td>0</td>\n",
       "      <td>0</td>\n",
       "      <td>0</td>\n",
       "      <td>0</td>\n",
       "    </tr>\n",
       "    <tr>\n",
       "      <th>4</th>\n",
       "      <td>0</td>\n",
       "      <td>0</td>\n",
       "      <td>0</td>\n",
       "      <td>0</td>\n",
       "      <td>0</td>\n",
       "      <td>0</td>\n",
       "      <td>1</td>\n",
       "      <td>0</td>\n",
       "      <td>0</td>\n",
       "      <td>1</td>\n",
       "      <td>0</td>\n",
       "      <td>0</td>\n",
       "      <td>0</td>\n",
       "      <td>0</td>\n",
       "    </tr>\n",
       "    <tr>\n",
       "      <th>...</th>\n",
       "      <td>...</td>\n",
       "      <td>...</td>\n",
       "      <td>...</td>\n",
       "      <td>...</td>\n",
       "      <td>...</td>\n",
       "      <td>...</td>\n",
       "      <td>...</td>\n",
       "      <td>...</td>\n",
       "      <td>...</td>\n",
       "      <td>...</td>\n",
       "      <td>...</td>\n",
       "      <td>...</td>\n",
       "      <td>...</td>\n",
       "      <td>...</td>\n",
       "    </tr>\n",
       "    <tr>\n",
       "      <th>1880</th>\n",
       "      <td>1</td>\n",
       "      <td>0</td>\n",
       "      <td>0</td>\n",
       "      <td>0</td>\n",
       "      <td>0</td>\n",
       "      <td>0</td>\n",
       "      <td>0</td>\n",
       "      <td>0</td>\n",
       "      <td>0</td>\n",
       "      <td>1</td>\n",
       "      <td>0</td>\n",
       "      <td>0</td>\n",
       "      <td>0</td>\n",
       "      <td>0</td>\n",
       "    </tr>\n",
       "    <tr>\n",
       "      <th>1881</th>\n",
       "      <td>1</td>\n",
       "      <td>0</td>\n",
       "      <td>0</td>\n",
       "      <td>0</td>\n",
       "      <td>0</td>\n",
       "      <td>0</td>\n",
       "      <td>0</td>\n",
       "      <td>0</td>\n",
       "      <td>0</td>\n",
       "      <td>1</td>\n",
       "      <td>0</td>\n",
       "      <td>0</td>\n",
       "      <td>0</td>\n",
       "      <td>0</td>\n",
       "    </tr>\n",
       "    <tr>\n",
       "      <th>1882</th>\n",
       "      <td>1</td>\n",
       "      <td>0</td>\n",
       "      <td>0</td>\n",
       "      <td>0</td>\n",
       "      <td>0</td>\n",
       "      <td>0</td>\n",
       "      <td>0</td>\n",
       "      <td>0</td>\n",
       "      <td>0</td>\n",
       "      <td>1</td>\n",
       "      <td>0</td>\n",
       "      <td>0</td>\n",
       "      <td>0</td>\n",
       "      <td>0</td>\n",
       "    </tr>\n",
       "    <tr>\n",
       "      <th>1883</th>\n",
       "      <td>1</td>\n",
       "      <td>0</td>\n",
       "      <td>0</td>\n",
       "      <td>0</td>\n",
       "      <td>0</td>\n",
       "      <td>0</td>\n",
       "      <td>0</td>\n",
       "      <td>0</td>\n",
       "      <td>0</td>\n",
       "      <td>1</td>\n",
       "      <td>0</td>\n",
       "      <td>0</td>\n",
       "      <td>0</td>\n",
       "      <td>0</td>\n",
       "    </tr>\n",
       "    <tr>\n",
       "      <th>1884</th>\n",
       "      <td>0</td>\n",
       "      <td>0</td>\n",
       "      <td>0</td>\n",
       "      <td>0</td>\n",
       "      <td>1</td>\n",
       "      <td>0</td>\n",
       "      <td>0</td>\n",
       "      <td>0</td>\n",
       "      <td>0</td>\n",
       "      <td>1</td>\n",
       "      <td>0</td>\n",
       "      <td>0</td>\n",
       "      <td>0</td>\n",
       "      <td>0</td>\n",
       "    </tr>\n",
       "  </tbody>\n",
       "</table>\n",
       "<p>1885 rows × 14 columns</p>\n",
       "</div>"
      ],
      "text/plain": [
       "      USA  New Zealand  Country_Other  Australia  Ireland  Canada  UK  Black  \\\n",
       "0       0            0              0          0        0       0   1      0   \n",
       "1       0            0              0          0        0       0   1      0   \n",
       "2       0            0              0          0        0       0   1      0   \n",
       "3       0            0              0          0        0       0   1      0   \n",
       "4       0            0              0          0        0       0   1      0   \n",
       "...   ...          ...            ...        ...      ...     ...  ..    ...   \n",
       "1880    1            0              0          0        0       0   0      0   \n",
       "1881    1            0              0          0        0       0   0      0   \n",
       "1882    1            0              0          0        0       0   0      0   \n",
       "1883    1            0              0          0        0       0   0      0   \n",
       "1884    0            0              0          0        1       0   0      0   \n",
       "\n",
       "      Asian  White  Mixed-White/Black  Ethnicity_Other  Mixed-White/Asian  \\\n",
       "0         0      0                  0                0                  1   \n",
       "1         0      1                  0                0                  0   \n",
       "2         0      1                  0                0                  0   \n",
       "3         0      1                  0                0                  0   \n",
       "4         0      1                  0                0                  0   \n",
       "...     ...    ...                ...              ...                ...   \n",
       "1880      0      1                  0                0                  0   \n",
       "1881      0      1                  0                0                  0   \n",
       "1882      0      1                  0                0                  0   \n",
       "1883      0      1                  0                0                  0   \n",
       "1884      0      1                  0                0                  0   \n",
       "\n",
       "      Mixed-Black/Asian  \n",
       "0                     0  \n",
       "1                     0  \n",
       "2                     0  \n",
       "3                     0  \n",
       "4                     0  \n",
       "...                 ...  \n",
       "1880                  0  \n",
       "1881                  0  \n",
       "1882                  0  \n",
       "1883                  0  \n",
       "1884                  0  \n",
       "\n",
       "[1885 rows x 14 columns]"
      ]
     },
     "execution_count": 5,
     "metadata": {},
     "output_type": "execute_result"
    }
   ],
   "source": [
    "# Ordinal feature: Age, Education, Nscore, Escore, Oscore, Ascore, Cscore, Impulsive, SS\n",
    "# Nominal feature: Gender, Country, Ethnicity\n",
    "\n",
    "# gender is binary so we don't need to encode it here\n",
    "nominal_f = ['Country', 'Ethnicity']\n",
    "new_columns = ['USA', 'New Zealand', 'Country_Other', \n",
    "               'Australia', 'Ireland', 'Canada', 'UK',\n",
    "               'Black', 'Asian', 'White', 'Mixed-White/Black',\n",
    "               'Ethnicity_Other', 'Mixed-White/Asian', 'Mixed-Black/Asian'\n",
    "              ]\n",
    "\n",
    "# one hot encode the nominal features\n",
    "one_hot_features = pd.concat([pd.get_dummies(features[col], prefix=col) for col in nominal_f], axis=1)\n",
    "# rename the columns after one-hot\n",
    "one_hot_features = one_hot_features.rename(dict(zip(one_hot_features.columns, new_columns)), axis=\"columns\")\n",
    "one_hot_features"
   ]
  },
  {
   "cell_type": "code",
   "execution_count": 6,
   "metadata": {
    "canvas": {
     "comments": [],
     "componentType": "CodeCell",
     "copiedOriginId": null,
     "diskcache": false,
     "headerColor": "none",
     "id": "919f42fb-6fee-4f18-920c-2fce3c06f51d",
     "isComponent": false,
     "name": "",
     "parents": []
    }
   },
   "outputs": [
    {
     "data": {
      "text/html": [
       "<div>\n",
       "<style scoped>\n",
       "    .dataframe tbody tr th:only-of-type {\n",
       "        vertical-align: middle;\n",
       "    }\n",
       "\n",
       "    .dataframe tbody tr th {\n",
       "        vertical-align: top;\n",
       "    }\n",
       "\n",
       "    .dataframe thead th {\n",
       "        text-align: right;\n",
       "    }\n",
       "</style>\n",
       "<table border=\"1\" class=\"dataframe\">\n",
       "  <thead>\n",
       "    <tr style=\"text-align: right;\">\n",
       "      <th></th>\n",
       "      <th>Age</th>\n",
       "      <th>Gender</th>\n",
       "      <th>Education</th>\n",
       "      <th>Nscore</th>\n",
       "      <th>Escore</th>\n",
       "      <th>Oscore</th>\n",
       "      <th>Ascore</th>\n",
       "      <th>Cscore</th>\n",
       "      <th>Impulsive</th>\n",
       "      <th>SS</th>\n",
       "    </tr>\n",
       "  </thead>\n",
       "  <tbody>\n",
       "    <tr>\n",
       "      <th>0</th>\n",
       "      <td>0.409137</td>\n",
       "      <td>1.0</td>\n",
       "      <td>0.537681</td>\n",
       "      <td>0.560562</td>\n",
       "      <td>0.412116</td>\n",
       "      <td>0.435690</td>\n",
       "      <td>0.367654</td>\n",
       "      <td>0.499040</td>\n",
       "      <td>0.428474</td>\n",
       "      <td>0.224398</td>\n",
       "    </tr>\n",
       "    <tr>\n",
       "      <th>1</th>\n",
       "      <td>0.246475</td>\n",
       "      <td>0.0</td>\n",
       "      <td>1.000000</td>\n",
       "      <td>0.413474</td>\n",
       "      <td>0.796106</td>\n",
       "      <td>0.762567</td>\n",
       "      <td>0.609827</td>\n",
       "      <td>0.479394</td>\n",
       "      <td>0.337920</td>\n",
       "      <td>0.465658</td>\n",
       "    </tr>\n",
       "    <tr>\n",
       "      <th>2</th>\n",
       "      <td>0.409137</td>\n",
       "      <td>0.0</td>\n",
       "      <td>0.537681</td>\n",
       "      <td>0.444788</td>\n",
       "      <td>0.622976</td>\n",
       "      <td>0.392939</td>\n",
       "      <td>0.266061</td>\n",
       "      <td>0.353580</td>\n",
       "      <td>0.215401</td>\n",
       "      <td>0.619957</td>\n",
       "    </tr>\n",
       "    <tr>\n",
       "      <th>3</th>\n",
       "      <td>0.000000</td>\n",
       "      <td>1.0</td>\n",
       "      <td>0.814329</td>\n",
       "      <td>0.492045</td>\n",
       "      <td>0.376883</td>\n",
       "      <td>0.527023</td>\n",
       "      <td>0.585213</td>\n",
       "      <td>0.584415</td>\n",
       "      <td>0.215401</td>\n",
       "      <td>0.224398</td>\n",
       "    </tr>\n",
       "    <tr>\n",
       "      <th>4</th>\n",
       "      <td>0.409137</td>\n",
       "      <td>1.0</td>\n",
       "      <td>1.000000</td>\n",
       "      <td>0.623275</td>\n",
       "      <td>0.250544</td>\n",
       "      <td>0.456995</td>\n",
       "      <td>0.456454</td>\n",
       "      <td>0.688508</td>\n",
       "      <td>0.428474</td>\n",
       "      <td>0.465658</td>\n",
       "    </tr>\n",
       "    <tr>\n",
       "      <th>...</th>\n",
       "      <td>...</td>\n",
       "      <td>...</td>\n",
       "      <td>...</td>\n",
       "      <td>...</td>\n",
       "      <td>...</td>\n",
       "      <td>...</td>\n",
       "      <td>...</td>\n",
       "      <td>...</td>\n",
       "      <td>...</td>\n",
       "      <td>...</td>\n",
       "    </tr>\n",
       "    <tr>\n",
       "      <th>1880</th>\n",
       "      <td>0.000000</td>\n",
       "      <td>1.0</td>\n",
       "      <td>0.412820</td>\n",
       "      <td>0.336890</td>\n",
       "      <td>0.765875</td>\n",
       "      <td>0.835399</td>\n",
       "      <td>0.609827</td>\n",
       "      <td>0.335773</td>\n",
       "      <td>0.629735</td>\n",
       "      <td>1.000000</td>\n",
       "    </tr>\n",
       "    <tr>\n",
       "      <th>1881</th>\n",
       "      <td>0.000000</td>\n",
       "      <td>0.0</td>\n",
       "      <td>0.412820</td>\n",
       "      <td>0.477550</td>\n",
       "      <td>0.765875</td>\n",
       "      <td>0.624600</td>\n",
       "      <td>0.609827</td>\n",
       "      <td>0.280854</td>\n",
       "      <td>0.629735</td>\n",
       "      <td>0.710933</td>\n",
       "    </tr>\n",
       "    <tr>\n",
       "      <th>1882</th>\n",
       "      <td>0.246475</td>\n",
       "      <td>1.0</td>\n",
       "      <td>0.653938</td>\n",
       "      <td>0.682246</td>\n",
       "      <td>0.289795</td>\n",
       "      <td>0.323599</td>\n",
       "      <td>0.244253</td>\n",
       "      <td>0.300104</td>\n",
       "      <td>0.565343</td>\n",
       "      <td>0.388117</td>\n",
       "    </tr>\n",
       "    <tr>\n",
       "      <th>1883</th>\n",
       "      <td>0.000000</td>\n",
       "      <td>1.0</td>\n",
       "      <td>0.412820</td>\n",
       "      <td>0.649318</td>\n",
       "      <td>0.206510</td>\n",
       "      <td>0.577652</td>\n",
       "      <td>0.266061</td>\n",
       "      <td>0.128634</td>\n",
       "      <td>0.705068</td>\n",
       "      <td>0.825752</td>\n",
       "    </tr>\n",
       "    <tr>\n",
       "      <th>1884</th>\n",
       "      <td>0.000000</td>\n",
       "      <td>0.0</td>\n",
       "      <td>0.412820</td>\n",
       "      <td>0.444788</td>\n",
       "      <td>0.824839</td>\n",
       "      <td>0.798385</td>\n",
       "      <td>0.660789</td>\n",
       "      <td>0.560031</td>\n",
       "      <td>0.629735</td>\n",
       "      <td>0.825752</td>\n",
       "    </tr>\n",
       "  </tbody>\n",
       "</table>\n",
       "<p>1885 rows × 10 columns</p>\n",
       "</div>"
      ],
      "text/plain": [
       "           Age  Gender  Education    Nscore    Escore    Oscore    Ascore  \\\n",
       "0     0.409137     1.0   0.537681  0.560562  0.412116  0.435690  0.367654   \n",
       "1     0.246475     0.0   1.000000  0.413474  0.796106  0.762567  0.609827   \n",
       "2     0.409137     0.0   0.537681  0.444788  0.622976  0.392939  0.266061   \n",
       "3     0.000000     1.0   0.814329  0.492045  0.376883  0.527023  0.585213   \n",
       "4     0.409137     1.0   1.000000  0.623275  0.250544  0.456995  0.456454   \n",
       "...        ...     ...        ...       ...       ...       ...       ...   \n",
       "1880  0.000000     1.0   0.412820  0.336890  0.765875  0.835399  0.609827   \n",
       "1881  0.000000     0.0   0.412820  0.477550  0.765875  0.624600  0.609827   \n",
       "1882  0.246475     1.0   0.653938  0.682246  0.289795  0.323599  0.244253   \n",
       "1883  0.000000     1.0   0.412820  0.649318  0.206510  0.577652  0.266061   \n",
       "1884  0.000000     0.0   0.412820  0.444788  0.824839  0.798385  0.660789   \n",
       "\n",
       "        Cscore  Impulsive        SS  \n",
       "0     0.499040   0.428474  0.224398  \n",
       "1     0.479394   0.337920  0.465658  \n",
       "2     0.353580   0.215401  0.619957  \n",
       "3     0.584415   0.215401  0.224398  \n",
       "4     0.688508   0.428474  0.465658  \n",
       "...        ...        ...       ...  \n",
       "1880  0.335773   0.629735  1.000000  \n",
       "1881  0.280854   0.629735  0.710933  \n",
       "1882  0.300104   0.565343  0.388117  \n",
       "1883  0.128634   0.705068  0.825752  \n",
       "1884  0.560031   0.629735  0.825752  \n",
       "\n",
       "[1885 rows x 10 columns]"
      ]
     },
     "execution_count": 6,
     "metadata": {},
     "output_type": "execute_result"
    }
   ],
   "source": [
    "# use min-max scaler to normilize the ordinal features for\n",
    "\n",
    "scaler = MinMaxScaler()\n",
    "ordinal_f = features.drop(nominal_f, axis=1)\n",
    "norm_ordinal_f = scaler.fit(ordinal_f).transform(ordinal_f)\n",
    "norm_ordinal_f = pd.DataFrame(norm_ordinal_f, columns=ordinal_f.columns)\n",
    "norm_ordinal_f"
   ]
  },
  {
   "cell_type": "code",
   "execution_count": 42,
   "metadata": {
    "canvas": {
     "comments": [],
     "componentType": "CodeCell",
     "copiedOriginId": null,
     "diskcache": false,
     "headerColor": "none",
     "id": "10be0ebf-4d16-4be1-afc6-eac137e617f5",
     "isComponent": false,
     "name": "",
     "parents": []
    }
   },
   "outputs": [
    {
     "data": {
      "text/html": [
       "<div>\n",
       "<style scoped>\n",
       "    .dataframe tbody tr th:only-of-type {\n",
       "        vertical-align: middle;\n",
       "    }\n",
       "\n",
       "    .dataframe tbody tr th {\n",
       "        vertical-align: top;\n",
       "    }\n",
       "\n",
       "    .dataframe thead th {\n",
       "        text-align: right;\n",
       "    }\n",
       "</style>\n",
       "<table border=\"1\" class=\"dataframe\">\n",
       "  <thead>\n",
       "    <tr style=\"text-align: right;\">\n",
       "      <th></th>\n",
       "      <th>Age</th>\n",
       "      <th>Gender</th>\n",
       "      <th>Education</th>\n",
       "      <th>Nscore</th>\n",
       "      <th>Escore</th>\n",
       "      <th>Oscore</th>\n",
       "      <th>Ascore</th>\n",
       "      <th>Cscore</th>\n",
       "      <th>Impulsive</th>\n",
       "      <th>SS</th>\n",
       "      <th>...</th>\n",
       "      <th>Ireland</th>\n",
       "      <th>Canada</th>\n",
       "      <th>UK</th>\n",
       "      <th>Black</th>\n",
       "      <th>Asian</th>\n",
       "      <th>White</th>\n",
       "      <th>Mixed-White/Black</th>\n",
       "      <th>Ethnicity_Other</th>\n",
       "      <th>Mixed-White/Asian</th>\n",
       "      <th>Mixed-Black/Asian</th>\n",
       "    </tr>\n",
       "  </thead>\n",
       "  <tbody>\n",
       "    <tr>\n",
       "      <th>0</th>\n",
       "      <td>0.409137</td>\n",
       "      <td>1.0</td>\n",
       "      <td>0.537681</td>\n",
       "      <td>0.560562</td>\n",
       "      <td>0.412116</td>\n",
       "      <td>0.435690</td>\n",
       "      <td>0.367654</td>\n",
       "      <td>0.499040</td>\n",
       "      <td>0.428474</td>\n",
       "      <td>0.224398</td>\n",
       "      <td>...</td>\n",
       "      <td>0</td>\n",
       "      <td>0</td>\n",
       "      <td>1</td>\n",
       "      <td>0</td>\n",
       "      <td>0</td>\n",
       "      <td>0</td>\n",
       "      <td>0</td>\n",
       "      <td>0</td>\n",
       "      <td>1</td>\n",
       "      <td>0</td>\n",
       "    </tr>\n",
       "    <tr>\n",
       "      <th>1</th>\n",
       "      <td>0.246475</td>\n",
       "      <td>0.0</td>\n",
       "      <td>1.000000</td>\n",
       "      <td>0.413474</td>\n",
       "      <td>0.796106</td>\n",
       "      <td>0.762567</td>\n",
       "      <td>0.609827</td>\n",
       "      <td>0.479394</td>\n",
       "      <td>0.337920</td>\n",
       "      <td>0.465658</td>\n",
       "      <td>...</td>\n",
       "      <td>0</td>\n",
       "      <td>0</td>\n",
       "      <td>1</td>\n",
       "      <td>0</td>\n",
       "      <td>0</td>\n",
       "      <td>1</td>\n",
       "      <td>0</td>\n",
       "      <td>0</td>\n",
       "      <td>0</td>\n",
       "      <td>0</td>\n",
       "    </tr>\n",
       "    <tr>\n",
       "      <th>2</th>\n",
       "      <td>0.409137</td>\n",
       "      <td>0.0</td>\n",
       "      <td>0.537681</td>\n",
       "      <td>0.444788</td>\n",
       "      <td>0.622976</td>\n",
       "      <td>0.392939</td>\n",
       "      <td>0.266061</td>\n",
       "      <td>0.353580</td>\n",
       "      <td>0.215401</td>\n",
       "      <td>0.619957</td>\n",
       "      <td>...</td>\n",
       "      <td>0</td>\n",
       "      <td>0</td>\n",
       "      <td>1</td>\n",
       "      <td>0</td>\n",
       "      <td>0</td>\n",
       "      <td>1</td>\n",
       "      <td>0</td>\n",
       "      <td>0</td>\n",
       "      <td>0</td>\n",
       "      <td>0</td>\n",
       "    </tr>\n",
       "    <tr>\n",
       "      <th>3</th>\n",
       "      <td>0.000000</td>\n",
       "      <td>1.0</td>\n",
       "      <td>0.814329</td>\n",
       "      <td>0.492045</td>\n",
       "      <td>0.376883</td>\n",
       "      <td>0.527023</td>\n",
       "      <td>0.585213</td>\n",
       "      <td>0.584415</td>\n",
       "      <td>0.215401</td>\n",
       "      <td>0.224398</td>\n",
       "      <td>...</td>\n",
       "      <td>0</td>\n",
       "      <td>0</td>\n",
       "      <td>1</td>\n",
       "      <td>0</td>\n",
       "      <td>0</td>\n",
       "      <td>1</td>\n",
       "      <td>0</td>\n",
       "      <td>0</td>\n",
       "      <td>0</td>\n",
       "      <td>0</td>\n",
       "    </tr>\n",
       "    <tr>\n",
       "      <th>4</th>\n",
       "      <td>0.409137</td>\n",
       "      <td>1.0</td>\n",
       "      <td>1.000000</td>\n",
       "      <td>0.623275</td>\n",
       "      <td>0.250544</td>\n",
       "      <td>0.456995</td>\n",
       "      <td>0.456454</td>\n",
       "      <td>0.688508</td>\n",
       "      <td>0.428474</td>\n",
       "      <td>0.465658</td>\n",
       "      <td>...</td>\n",
       "      <td>0</td>\n",
       "      <td>0</td>\n",
       "      <td>1</td>\n",
       "      <td>0</td>\n",
       "      <td>0</td>\n",
       "      <td>1</td>\n",
       "      <td>0</td>\n",
       "      <td>0</td>\n",
       "      <td>0</td>\n",
       "      <td>0</td>\n",
       "    </tr>\n",
       "    <tr>\n",
       "      <th>...</th>\n",
       "      <td>...</td>\n",
       "      <td>...</td>\n",
       "      <td>...</td>\n",
       "      <td>...</td>\n",
       "      <td>...</td>\n",
       "      <td>...</td>\n",
       "      <td>...</td>\n",
       "      <td>...</td>\n",
       "      <td>...</td>\n",
       "      <td>...</td>\n",
       "      <td>...</td>\n",
       "      <td>...</td>\n",
       "      <td>...</td>\n",
       "      <td>...</td>\n",
       "      <td>...</td>\n",
       "      <td>...</td>\n",
       "      <td>...</td>\n",
       "      <td>...</td>\n",
       "      <td>...</td>\n",
       "      <td>...</td>\n",
       "      <td>...</td>\n",
       "    </tr>\n",
       "    <tr>\n",
       "      <th>1880</th>\n",
       "      <td>0.000000</td>\n",
       "      <td>1.0</td>\n",
       "      <td>0.412820</td>\n",
       "      <td>0.336890</td>\n",
       "      <td>0.765875</td>\n",
       "      <td>0.835399</td>\n",
       "      <td>0.609827</td>\n",
       "      <td>0.335773</td>\n",
       "      <td>0.629735</td>\n",
       "      <td>1.000000</td>\n",
       "      <td>...</td>\n",
       "      <td>0</td>\n",
       "      <td>0</td>\n",
       "      <td>0</td>\n",
       "      <td>0</td>\n",
       "      <td>0</td>\n",
       "      <td>1</td>\n",
       "      <td>0</td>\n",
       "      <td>0</td>\n",
       "      <td>0</td>\n",
       "      <td>0</td>\n",
       "    </tr>\n",
       "    <tr>\n",
       "      <th>1881</th>\n",
       "      <td>0.000000</td>\n",
       "      <td>0.0</td>\n",
       "      <td>0.412820</td>\n",
       "      <td>0.477550</td>\n",
       "      <td>0.765875</td>\n",
       "      <td>0.624600</td>\n",
       "      <td>0.609827</td>\n",
       "      <td>0.280854</td>\n",
       "      <td>0.629735</td>\n",
       "      <td>0.710933</td>\n",
       "      <td>...</td>\n",
       "      <td>0</td>\n",
       "      <td>0</td>\n",
       "      <td>0</td>\n",
       "      <td>0</td>\n",
       "      <td>0</td>\n",
       "      <td>1</td>\n",
       "      <td>0</td>\n",
       "      <td>0</td>\n",
       "      <td>0</td>\n",
       "      <td>0</td>\n",
       "    </tr>\n",
       "    <tr>\n",
       "      <th>1882</th>\n",
       "      <td>0.246475</td>\n",
       "      <td>1.0</td>\n",
       "      <td>0.653938</td>\n",
       "      <td>0.682246</td>\n",
       "      <td>0.289795</td>\n",
       "      <td>0.323599</td>\n",
       "      <td>0.244253</td>\n",
       "      <td>0.300104</td>\n",
       "      <td>0.565343</td>\n",
       "      <td>0.388117</td>\n",
       "      <td>...</td>\n",
       "      <td>0</td>\n",
       "      <td>0</td>\n",
       "      <td>0</td>\n",
       "      <td>0</td>\n",
       "      <td>0</td>\n",
       "      <td>1</td>\n",
       "      <td>0</td>\n",
       "      <td>0</td>\n",
       "      <td>0</td>\n",
       "      <td>0</td>\n",
       "    </tr>\n",
       "    <tr>\n",
       "      <th>1883</th>\n",
       "      <td>0.000000</td>\n",
       "      <td>1.0</td>\n",
       "      <td>0.412820</td>\n",
       "      <td>0.649318</td>\n",
       "      <td>0.206510</td>\n",
       "      <td>0.577652</td>\n",
       "      <td>0.266061</td>\n",
       "      <td>0.128634</td>\n",
       "      <td>0.705068</td>\n",
       "      <td>0.825752</td>\n",
       "      <td>...</td>\n",
       "      <td>0</td>\n",
       "      <td>0</td>\n",
       "      <td>0</td>\n",
       "      <td>0</td>\n",
       "      <td>0</td>\n",
       "      <td>1</td>\n",
       "      <td>0</td>\n",
       "      <td>0</td>\n",
       "      <td>0</td>\n",
       "      <td>0</td>\n",
       "    </tr>\n",
       "    <tr>\n",
       "      <th>1884</th>\n",
       "      <td>0.000000</td>\n",
       "      <td>0.0</td>\n",
       "      <td>0.412820</td>\n",
       "      <td>0.444788</td>\n",
       "      <td>0.824839</td>\n",
       "      <td>0.798385</td>\n",
       "      <td>0.660789</td>\n",
       "      <td>0.560031</td>\n",
       "      <td>0.629735</td>\n",
       "      <td>0.825752</td>\n",
       "      <td>...</td>\n",
       "      <td>1</td>\n",
       "      <td>0</td>\n",
       "      <td>0</td>\n",
       "      <td>0</td>\n",
       "      <td>0</td>\n",
       "      <td>1</td>\n",
       "      <td>0</td>\n",
       "      <td>0</td>\n",
       "      <td>0</td>\n",
       "      <td>0</td>\n",
       "    </tr>\n",
       "  </tbody>\n",
       "</table>\n",
       "<p>1885 rows × 24 columns</p>\n",
       "</div>"
      ],
      "text/plain": [
       "           Age  Gender  Education    Nscore    Escore    Oscore    Ascore  \\\n",
       "0     0.409137     1.0   0.537681  0.560562  0.412116  0.435690  0.367654   \n",
       "1     0.246475     0.0   1.000000  0.413474  0.796106  0.762567  0.609827   \n",
       "2     0.409137     0.0   0.537681  0.444788  0.622976  0.392939  0.266061   \n",
       "3     0.000000     1.0   0.814329  0.492045  0.376883  0.527023  0.585213   \n",
       "4     0.409137     1.0   1.000000  0.623275  0.250544  0.456995  0.456454   \n",
       "...        ...     ...        ...       ...       ...       ...       ...   \n",
       "1880  0.000000     1.0   0.412820  0.336890  0.765875  0.835399  0.609827   \n",
       "1881  0.000000     0.0   0.412820  0.477550  0.765875  0.624600  0.609827   \n",
       "1882  0.246475     1.0   0.653938  0.682246  0.289795  0.323599  0.244253   \n",
       "1883  0.000000     1.0   0.412820  0.649318  0.206510  0.577652  0.266061   \n",
       "1884  0.000000     0.0   0.412820  0.444788  0.824839  0.798385  0.660789   \n",
       "\n",
       "        Cscore  Impulsive        SS  ...  Ireland  Canada  UK  Black  Asian  \\\n",
       "0     0.499040   0.428474  0.224398  ...        0       0   1      0      0   \n",
       "1     0.479394   0.337920  0.465658  ...        0       0   1      0      0   \n",
       "2     0.353580   0.215401  0.619957  ...        0       0   1      0      0   \n",
       "3     0.584415   0.215401  0.224398  ...        0       0   1      0      0   \n",
       "4     0.688508   0.428474  0.465658  ...        0       0   1      0      0   \n",
       "...        ...        ...       ...  ...      ...     ...  ..    ...    ...   \n",
       "1880  0.335773   0.629735  1.000000  ...        0       0   0      0      0   \n",
       "1881  0.280854   0.629735  0.710933  ...        0       0   0      0      0   \n",
       "1882  0.300104   0.565343  0.388117  ...        0       0   0      0      0   \n",
       "1883  0.128634   0.705068  0.825752  ...        0       0   0      0      0   \n",
       "1884  0.560031   0.629735  0.825752  ...        1       0   0      0      0   \n",
       "\n",
       "      White  Mixed-White/Black  Ethnicity_Other  Mixed-White/Asian  \\\n",
       "0         0                  0                0                  1   \n",
       "1         1                  0                0                  0   \n",
       "2         1                  0                0                  0   \n",
       "3         1                  0                0                  0   \n",
       "4         1                  0                0                  0   \n",
       "...     ...                ...              ...                ...   \n",
       "1880      1                  0                0                  0   \n",
       "1881      1                  0                0                  0   \n",
       "1882      1                  0                0                  0   \n",
       "1883      1                  0                0                  0   \n",
       "1884      1                  0                0                  0   \n",
       "\n",
       "      Mixed-Black/Asian  \n",
       "0                     0  \n",
       "1                     0  \n",
       "2                     0  \n",
       "3                     0  \n",
       "4                     0  \n",
       "...                 ...  \n",
       "1880                  0  \n",
       "1881                  0  \n",
       "1882                  0  \n",
       "1883                  0  \n",
       "1884                  0  \n",
       "\n",
       "[1885 rows x 24 columns]"
      ]
     },
     "execution_count": 42,
     "metadata": {},
     "output_type": "execute_result"
    }
   ],
   "source": [
    "# concat norminal and ordinal features together\n",
    "processed_features = pd.concat([norm_ordinal_f, one_hot_features], axis=1)\n",
    "processed_features"
   ]
  },
  {
   "cell_type": "code",
   "execution_count": 8,
   "metadata": {
    "canvas": {
     "comments": [],
     "componentType": "CodeCell",
     "copiedOriginId": null,
     "diskcache": false,
     "headerColor": "none",
     "id": "f413c942-0c19-4e5b-b76e-e6430c41c3c9",
     "isComponent": false,
     "name": "",
     "parents": []
    }
   },
   "outputs": [
    {
     "data": {
      "text/html": [
       "<div>\n",
       "<style scoped>\n",
       "    .dataframe tbody tr th:only-of-type {\n",
       "        vertical-align: middle;\n",
       "    }\n",
       "\n",
       "    .dataframe tbody tr th {\n",
       "        vertical-align: top;\n",
       "    }\n",
       "\n",
       "    .dataframe thead th {\n",
       "        text-align: right;\n",
       "    }\n",
       "</style>\n",
       "<table border=\"1\" class=\"dataframe\">\n",
       "  <thead>\n",
       "    <tr style=\"text-align: right;\">\n",
       "      <th></th>\n",
       "      <th>Alcohol</th>\n",
       "      <th>Amphet</th>\n",
       "      <th>Amyl</th>\n",
       "      <th>Benzos</th>\n",
       "      <th>Caff</th>\n",
       "      <th>Cannabis</th>\n",
       "      <th>Choc</th>\n",
       "      <th>Coke</th>\n",
       "      <th>Crack</th>\n",
       "      <th>Ecstasy</th>\n",
       "      <th>Heroin</th>\n",
       "      <th>Ketamine</th>\n",
       "      <th>Legalh</th>\n",
       "      <th>LSD</th>\n",
       "      <th>Meth</th>\n",
       "      <th>Mushrooms</th>\n",
       "      <th>Nicotine</th>\n",
       "      <th>Semer</th>\n",
       "      <th>VSA</th>\n",
       "    </tr>\n",
       "  </thead>\n",
       "  <tbody>\n",
       "    <tr>\n",
       "      <th>0</th>\n",
       "      <td>1</td>\n",
       "      <td>1</td>\n",
       "      <td>0</td>\n",
       "      <td>1</td>\n",
       "      <td>1</td>\n",
       "      <td>0</td>\n",
       "      <td>1</td>\n",
       "      <td>0</td>\n",
       "      <td>0</td>\n",
       "      <td>0</td>\n",
       "      <td>0</td>\n",
       "      <td>0</td>\n",
       "      <td>0</td>\n",
       "      <td>0</td>\n",
       "      <td>0</td>\n",
       "      <td>0</td>\n",
       "      <td>1</td>\n",
       "      <td>0</td>\n",
       "      <td>0</td>\n",
       "    </tr>\n",
       "    <tr>\n",
       "      <th>1</th>\n",
       "      <td>1</td>\n",
       "      <td>1</td>\n",
       "      <td>1</td>\n",
       "      <td>0</td>\n",
       "      <td>1</td>\n",
       "      <td>1</td>\n",
       "      <td>1</td>\n",
       "      <td>1</td>\n",
       "      <td>0</td>\n",
       "      <td>1</td>\n",
       "      <td>0</td>\n",
       "      <td>1</td>\n",
       "      <td>0</td>\n",
       "      <td>1</td>\n",
       "      <td>1</td>\n",
       "      <td>0</td>\n",
       "      <td>1</td>\n",
       "      <td>0</td>\n",
       "      <td>0</td>\n",
       "    </tr>\n",
       "    <tr>\n",
       "      <th>2</th>\n",
       "      <td>1</td>\n",
       "      <td>0</td>\n",
       "      <td>0</td>\n",
       "      <td>0</td>\n",
       "      <td>1</td>\n",
       "      <td>1</td>\n",
       "      <td>1</td>\n",
       "      <td>0</td>\n",
       "      <td>0</td>\n",
       "      <td>0</td>\n",
       "      <td>0</td>\n",
       "      <td>0</td>\n",
       "      <td>0</td>\n",
       "      <td>0</td>\n",
       "      <td>0</td>\n",
       "      <td>0</td>\n",
       "      <td>0</td>\n",
       "      <td>0</td>\n",
       "      <td>0</td>\n",
       "    </tr>\n",
       "    <tr>\n",
       "      <th>3</th>\n",
       "      <td>1</td>\n",
       "      <td>0</td>\n",
       "      <td>0</td>\n",
       "      <td>1</td>\n",
       "      <td>1</td>\n",
       "      <td>1</td>\n",
       "      <td>1</td>\n",
       "      <td>1</td>\n",
       "      <td>0</td>\n",
       "      <td>0</td>\n",
       "      <td>0</td>\n",
       "      <td>1</td>\n",
       "      <td>0</td>\n",
       "      <td>0</td>\n",
       "      <td>0</td>\n",
       "      <td>0</td>\n",
       "      <td>1</td>\n",
       "      <td>0</td>\n",
       "      <td>0</td>\n",
       "    </tr>\n",
       "    <tr>\n",
       "      <th>4</th>\n",
       "      <td>1</td>\n",
       "      <td>0</td>\n",
       "      <td>0</td>\n",
       "      <td>0</td>\n",
       "      <td>1</td>\n",
       "      <td>1</td>\n",
       "      <td>1</td>\n",
       "      <td>0</td>\n",
       "      <td>0</td>\n",
       "      <td>0</td>\n",
       "      <td>0</td>\n",
       "      <td>0</td>\n",
       "      <td>0</td>\n",
       "      <td>0</td>\n",
       "      <td>0</td>\n",
       "      <td>1</td>\n",
       "      <td>1</td>\n",
       "      <td>0</td>\n",
       "      <td>0</td>\n",
       "    </tr>\n",
       "    <tr>\n",
       "      <th>...</th>\n",
       "      <td>...</td>\n",
       "      <td>...</td>\n",
       "      <td>...</td>\n",
       "      <td>...</td>\n",
       "      <td>...</td>\n",
       "      <td>...</td>\n",
       "      <td>...</td>\n",
       "      <td>...</td>\n",
       "      <td>...</td>\n",
       "      <td>...</td>\n",
       "      <td>...</td>\n",
       "      <td>...</td>\n",
       "      <td>...</td>\n",
       "      <td>...</td>\n",
       "      <td>...</td>\n",
       "      <td>...</td>\n",
       "      <td>...</td>\n",
       "      <td>...</td>\n",
       "      <td>...</td>\n",
       "    </tr>\n",
       "    <tr>\n",
       "      <th>1880</th>\n",
       "      <td>1</td>\n",
       "      <td>0</td>\n",
       "      <td>0</td>\n",
       "      <td>0</td>\n",
       "      <td>1</td>\n",
       "      <td>1</td>\n",
       "      <td>1</td>\n",
       "      <td>0</td>\n",
       "      <td>0</td>\n",
       "      <td>0</td>\n",
       "      <td>0</td>\n",
       "      <td>0</td>\n",
       "      <td>1</td>\n",
       "      <td>1</td>\n",
       "      <td>0</td>\n",
       "      <td>0</td>\n",
       "      <td>0</td>\n",
       "      <td>0</td>\n",
       "      <td>1</td>\n",
       "    </tr>\n",
       "    <tr>\n",
       "      <th>1881</th>\n",
       "      <td>1</td>\n",
       "      <td>0</td>\n",
       "      <td>0</td>\n",
       "      <td>0</td>\n",
       "      <td>1</td>\n",
       "      <td>1</td>\n",
       "      <td>1</td>\n",
       "      <td>0</td>\n",
       "      <td>0</td>\n",
       "      <td>1</td>\n",
       "      <td>0</td>\n",
       "      <td>0</td>\n",
       "      <td>1</td>\n",
       "      <td>1</td>\n",
       "      <td>1</td>\n",
       "      <td>1</td>\n",
       "      <td>1</td>\n",
       "      <td>0</td>\n",
       "      <td>0</td>\n",
       "    </tr>\n",
       "    <tr>\n",
       "      <th>1882</th>\n",
       "      <td>1</td>\n",
       "      <td>1</td>\n",
       "      <td>1</td>\n",
       "      <td>1</td>\n",
       "      <td>1</td>\n",
       "      <td>1</td>\n",
       "      <td>1</td>\n",
       "      <td>1</td>\n",
       "      <td>0</td>\n",
       "      <td>1</td>\n",
       "      <td>0</td>\n",
       "      <td>1</td>\n",
       "      <td>0</td>\n",
       "      <td>1</td>\n",
       "      <td>0</td>\n",
       "      <td>1</td>\n",
       "      <td>1</td>\n",
       "      <td>0</td>\n",
       "      <td>0</td>\n",
       "    </tr>\n",
       "    <tr>\n",
       "      <th>1883</th>\n",
       "      <td>1</td>\n",
       "      <td>0</td>\n",
       "      <td>0</td>\n",
       "      <td>0</td>\n",
       "      <td>1</td>\n",
       "      <td>1</td>\n",
       "      <td>1</td>\n",
       "      <td>0</td>\n",
       "      <td>0</td>\n",
       "      <td>1</td>\n",
       "      <td>0</td>\n",
       "      <td>0</td>\n",
       "      <td>1</td>\n",
       "      <td>1</td>\n",
       "      <td>0</td>\n",
       "      <td>1</td>\n",
       "      <td>1</td>\n",
       "      <td>0</td>\n",
       "      <td>0</td>\n",
       "    </tr>\n",
       "    <tr>\n",
       "      <th>1884</th>\n",
       "      <td>1</td>\n",
       "      <td>1</td>\n",
       "      <td>0</td>\n",
       "      <td>1</td>\n",
       "      <td>1</td>\n",
       "      <td>1</td>\n",
       "      <td>1</td>\n",
       "      <td>1</td>\n",
       "      <td>0</td>\n",
       "      <td>1</td>\n",
       "      <td>0</td>\n",
       "      <td>0</td>\n",
       "      <td>1</td>\n",
       "      <td>1</td>\n",
       "      <td>0</td>\n",
       "      <td>1</td>\n",
       "      <td>1</td>\n",
       "      <td>0</td>\n",
       "      <td>1</td>\n",
       "    </tr>\n",
       "  </tbody>\n",
       "</table>\n",
       "<p>1885 rows × 19 columns</p>\n",
       "</div>"
      ],
      "text/plain": [
       "     Alcohol Amphet Amyl Benzos Caff Cannabis Choc Coke Crack Ecstasy Heroin  \\\n",
       "0          1      1    0      1    1        0    1    0     0       0      0   \n",
       "1          1      1    1      0    1        1    1    1     0       1      0   \n",
       "2          1      0    0      0    1        1    1    0     0       0      0   \n",
       "3          1      0    0      1    1        1    1    1     0       0      0   \n",
       "4          1      0    0      0    1        1    1    0     0       0      0   \n",
       "...      ...    ...  ...    ...  ...      ...  ...  ...   ...     ...    ...   \n",
       "1880       1      0    0      0    1        1    1    0     0       0      0   \n",
       "1881       1      0    0      0    1        1    1    0     0       1      0   \n",
       "1882       1      1    1      1    1        1    1    1     0       1      0   \n",
       "1883       1      0    0      0    1        1    1    0     0       1      0   \n",
       "1884       1      1    0      1    1        1    1    1     0       1      0   \n",
       "\n",
       "     Ketamine Legalh LSD Meth Mushrooms Nicotine Semer VSA  \n",
       "0           0      0   0    0         0        1     0   0  \n",
       "1           1      0   1    1         0        1     0   0  \n",
       "2           0      0   0    0         0        0     0   0  \n",
       "3           1      0   0    0         0        1     0   0  \n",
       "4           0      0   0    0         1        1     0   0  \n",
       "...       ...    ...  ..  ...       ...      ...   ...  ..  \n",
       "1880        0      1   1    0         0        0     0   1  \n",
       "1881        0      1   1    1         1        1     0   0  \n",
       "1882        1      0   1    0         1        1     0   0  \n",
       "1883        0      1   1    0         1        1     0   0  \n",
       "1884        0      1   1    0         1        1     0   1  \n",
       "\n",
       "[1885 rows x 19 columns]"
      ]
     },
     "execution_count": 8,
     "metadata": {},
     "output_type": "execute_result"
    }
   ],
   "source": [
    "# encode the labels\n",
    "# 0: CL0 and CL1 (Non user)\n",
    "# 1: other classes (User)\n",
    "\n",
    "labels = data.iloc[:,13:]\n",
    "labels[(labels == 'CL0') | (labels == 'CL1')] = 0\n",
    "labels[labels != 0] = 1\n",
    "labels"
   ]
  },
  {
   "cell_type": "code",
   "execution_count": 9,
   "metadata": {
    "canvas": {
     "comments": [],
     "componentType": "CodeCell",
     "copiedOriginId": null,
     "diskcache": false,
     "headerColor": "none",
     "id": "4460c933-62d8-44cb-95c3-f049b25a52b0",
     "isComponent": false,
     "name": "",
     "parents": []
    }
   },
   "outputs": [
    {
     "name": "stdout",
     "output_type": "stream",
     "text": [
      "Training Feature Shape: (1262, 24)\n",
      "Testing Feature Shape: (623, 24)\n"
     ]
    }
   ],
   "source": [
    "X_train, X_test, y_train, y_test = train_test_split(processed_features, labels, test_size=0.33, random_state=42) # fix the random state for generating same split\n",
    "print(\"Training Feature Shape:\", X_train.shape)\n",
    "print(\"Testing Feature Shape:\", X_test.shape)"
   ]
  },
  {
   "cell_type": "markdown",
   "metadata": {
    "canvas": {
     "comments": [],
     "componentType": "CodeCell",
     "copiedOriginId": null,
     "diskcache": false,
     "headerColor": "inherit",
     "id": "c437f57b-8737-4909-bcaf-09d6f62ee636",
     "isComponent": false,
     "name": "",
     "parents": []
    }
   },
   "source": [
    "### Pipeline for feature selection and classifier and the hyperparameters for random search"
   ]
  },
  {
   "cell_type": "code",
   "execution_count": 10,
   "metadata": {
    "canvas": {
     "comments": [],
     "componentType": "CodeCell",
     "copiedOriginId": null,
     "diskcache": false,
     "headerColor": "none",
     "id": "3bf68845-f0da-4619-be80-74061adf0930",
     "isComponent": false,
     "name": "",
     "parents": []
    }
   },
   "outputs": [],
   "source": [
    "# a pipeline and parameters for decision tree\n",
    "pipe_df = Pipeline([\n",
    "    (\"feature_selection\", SelectKBest(chi2)),\n",
    "    (\"Decision_tree\", DecisionTreeClassifier(random_state=42))])\n",
    "\n",
    "\n",
    "param_distributions_df = {\n",
    "    \"feature_selection__k\": range(10, 24), # best-k features to select\n",
    "    \"Decision_tree__max_depth\": range(20, 100, 2),\n",
    "    \"Decision_tree__min_samples_split\": range(2, 10),\n",
    "}\n",
    "\n",
    "# a pipeline and parameters for random forest\n",
    "pipe_rf = Pipeline([\n",
    "    (\"feature_selection\", SelectKBest(chi2)),\n",
    "    (\"Random_forest\", RandomForestClassifier())])\n",
    "\n",
    "param_distributions_rf = {\n",
    "    \"feature_selection__k\": range(10, 24), # best-k features to select\n",
    "    \"Random_forest__n_estimators\": [75, 100, 150],\n",
    "    \"Random_forest__max_depth\": range(20, 100, 2),\n",
    "    \"Random_forest__min_samples_split\": range(2, 10),\n",
    "}\n",
    "\n",
    "# a pipeline and parameters for SVM\n",
    "pipe_svm = Pipeline([\n",
    "    (\"feature_selection\", SelectKBest(chi2)),\n",
    "    (\"SVM\", SVC(probability=True))])\n",
    "\n",
    "param_distributions_svm = {\n",
    "    \"feature_selection__k\": range(10, 24), # best-k features to select\n",
    "    \"SVM__C\": [1, 0.1, 0.01],\n",
    "    \"SVM__kernel\": [\"poly\", \"rbf\", \"sigmoid\"],\n",
    "    \"SVM__degree\": range(3, 10) # for poly kernel only\n",
    "}\n",
    "\n",
    "# a pipeline and parameters for KNN\n",
    "pipe_knn = Pipeline([\n",
    "    (\"feature_selection\", SelectKBest(chi2)),\n",
    "    (\"KNN\", KNeighborsClassifier())])\n",
    "\n",
    "param_distributions_knn = {\n",
    "    \"feature_selection__k\": range(10, 24), # best-k features to select\n",
    "    \"KNN__n_neighbors\": range(3, 30),\n",
    "}\n",
    "\n",
    "model_names = [\"Decision_tree\", \"Random_forest\", \"SVM\", \"KNN\"]\n",
    "model_pipes = [pipe_df, pipe_rf, pipe_svm, pipe_knn]\n",
    "model_params = [param_distributions_df, param_distributions_rf, param_distributions_svm, param_distributions_knn]"
   ]
  },
  {
   "cell_type": "markdown",
   "metadata": {
    "canvas": {
     "comments": [],
     "componentType": "CodeCell",
     "copiedOriginId": null,
     "diskcache": false,
     "headerColor": "inherit",
     "id": "1d2a9e55-25c7-437e-860f-2afe4ea4b693",
     "isComponent": false,
     "name": "",
     "parents": []
    }
   },
   "source": [
    "### Training Function\n",
    "\n",
    "- For each model, use 5-fold random search to draw 60 combinations from the pre-defined hyperparameters\n",
    "- print out the selected feautures\n",
    "- Return the best estimator in random search for each model"
   ]
  },
  {
   "cell_type": "code",
   "execution_count": 11,
   "metadata": {
    "canvas": {
     "comments": [],
     "componentType": "CodeCell",
     "copiedOriginId": null,
     "diskcache": false,
     "headerColor": "none",
     "id": "ad1b1835-d55a-4e90-a88e-9fbe4ca016e4",
     "isComponent": false,
     "name": "",
     "parents": []
    }
   },
   "outputs": [],
   "source": [
    "def train(X_train, y_train):\n",
    "    best_models = []\n",
    "    for i, model in enumerate(model_names):\n",
    "        start = time.time()\n",
    "        \n",
    "        print(model + \":\")\n",
    "        # 5-fold CV random search to find the best hyper-parameters\n",
    "        clf = RandomizedSearchCV(model_pipes[i], model_params[i], n_iter=60, random_state=42, cv=5, scoring=\"roc_auc\")\n",
    "        search = clf.fit(X_train, y_train)\n",
    "        print(\"Best AUC Score for 5-fold:\", search.best_score_)\n",
    "        selected_features = X_train.columns[search.best_estimator_['feature_selection'].get_support()]\n",
    "        print(\"Selected features:\", list(selected_features))\n",
    "        best_models.append(search.best_estimator_)\n",
    "        \n",
    "        print(\"Spent time:\", time.time()-start)\n",
    "        print()\n",
    "    \n",
    "    return best_models"
   ]
  },
  {
   "cell_type": "markdown",
   "metadata": {
    "canvas": {
     "comments": [],
     "componentType": "CodeCell",
     "copiedOriginId": null,
     "diskcache": false,
     "headerColor": "inherit",
     "id": "2ce04d67-0672-4504-9945-0d947a41c0f3",
     "isComponent": false,
     "name": "",
     "parents": []
    }
   },
   "source": [
    "### Testing Function\n",
    "\n",
    "- print out the precision and recall score\n",
    "- Plot confusion matrix for each model's predictions\n",
    "- Using the prediction probability of the class 1 (User class) from each model to draw the ROC curve on the same plot"
   ]
  },
  {
   "cell_type": "code",
   "execution_count": 12,
   "metadata": {
    "canvas": {
     "comments": [],
     "componentType": "CodeCell",
     "copiedOriginId": null,
     "diskcache": false,
     "headerColor": "none",
     "id": "eeb6bf60-26eb-4670-9e63-862a3b2e68d1",
     "isComponent": false,
     "name": "",
     "parents": []
    }
   },
   "outputs": [],
   "source": [
    "def test(X_test, y_test, model_names, models):\n",
    "    y_pred_probability = []\n",
    "    f, axes = plt.subplots(1, 4, figsize=(20, 5), sharey='row')\n",
    "    for i, model in enumerate(model_names):\n",
    "        print(model + \":\")\n",
    "        y_pred = models[i].predict(X_test)\n",
    "        y_pred_probability.append(models[i].predict_proba(X_test)[:,1]) # the probability of class 1\n",
    "        print(\"Precision:\", precision_score(y_test, y_pred))\n",
    "        print(\"Recall:\", recall_score(y_test, y_pred))\n",
    "\n",
    "        cm = confusion_matrix(y_test, y_pred, labels=[0, 1])\n",
    "        ConfusionMatrixDisplay(confusion_matrix=cm, display_labels=['Non-User', 'User']).plot(ax=axes[i])\n",
    "        axes[i].set_title('Confusion matrix of ' + model)\n",
    "        \n",
    "        print()\n",
    "    plt.show()\n",
    "    \n",
    "    for i, y_pred in enumerate(y_pred_probability):\n",
    "        fpr, tpr, _ = roc_curve(y_test, y_pred)\n",
    "        auc = round(roc_auc_score(y_test, y_pred), 4)\n",
    "        plt.plot(fpr,tpr,label=model_names[i] + \", AUC=\"+str(auc))\n",
    "    \n",
    "    plt.title('ROC Curve for 4 models')\n",
    "    plt.legend()\n",
    "    plt.show()"
   ]
  },
  {
   "cell_type": "markdown",
   "metadata": {
    "canvas": {
     "comments": [],
     "componentType": "CodeCell",
     "copiedOriginId": null,
     "diskcache": false,
     "headerColor": "none",
     "id": "47543625-9016-48ba-9c8f-0a372873d9b1",
     "isComponent": false,
     "name": "",
     "parents": []
    }
   },
   "source": [
    "### Label 1: Legalh\n",
    "\n",
    "Question 1: can I stack the feature selectors into the a pipeline with the classifier, so for each classifier, it has its own feature selectors\n",
    "\n",
    "Question 2: Some labels are highly imbalance, do we need to select some imbalance class and some balance classes?\n",
    "\n",
    "Questiom 3: Some of them are ordinal features, I don't turn them to one-hot encoding but normalize them with min-max scaler"
   ]
  },
  {
   "cell_type": "code",
   "execution_count": 13,
   "metadata": {
    "canvas": {
     "comments": [],
     "componentType": "CodeCell",
     "copiedOriginId": null,
     "diskcache": false,
     "headerColor": "none",
     "id": "5acfc90a-96b5-4382-b5d9-4009b7c57b09",
     "isComponent": false,
     "name": "",
     "parents": []
    }
   },
   "outputs": [],
   "source": [
    "Legalh_label_train, Legalh_label_test = y_train['Legalh'].astype('int'), y_test['Legalh'].astype('int')"
   ]
  },
  {
   "cell_type": "code",
   "execution_count": 14,
   "metadata": {
    "canvas": {
     "comments": [],
     "componentType": "CodeCell",
     "copiedOriginId": null,
     "diskcache": false,
     "headerColor": "none",
     "id": "c2e951e5-5c09-4d91-8b9c-912f3393529a",
     "isComponent": false,
     "name": "",
     "parents": []
    }
   },
   "outputs": [
    {
     "name": "stdout",
     "output_type": "stream",
     "text": [
      "Number of class 0 in train: 773\n",
      "Number of class 1 in train: 489\n",
      "Number of class 0 in test: 350\n",
      "Number of class 1 in test: 273\n"
     ]
    }
   ],
   "source": [
    "print(\"Number of class 0 in train:\", len(Legalh_label_train[Legalh_label_train==0]))\n",
    "print(\"Number of class 1 in train:\", len(Legalh_label_train[Legalh_label_train==1]))\n",
    "print(\"Number of class 0 in test:\", len(Legalh_label_test[Legalh_label_test==0]))\n",
    "print(\"Number of class 1 in test:\", len(Legalh_label_test[Legalh_label_test==1]))"
   ]
  },
  {
   "cell_type": "code",
   "execution_count": 15,
   "metadata": {
    "canvas": {
     "comments": [],
     "componentType": "CodeCell",
     "copiedOriginId": null,
     "diskcache": false,
     "headerColor": "none",
     "id": "64c82aba-8f56-4134-ab76-0ff74bf9dd28",
     "isComponent": false,
     "name": "",
     "parents": []
    }
   },
   "outputs": [
    {
     "name": "stdout",
     "output_type": "stream",
     "text": [
      "Decision_tree:\n",
      "Best AUC Score for 5-fold: 0.7602082930270221\n",
      "Selected features: ['Age', 'Gender', 'Education', 'Oscore', 'Cscore', 'Impulsive', 'SS', 'USA', 'New Zealand', 'Australia', 'Ireland', 'UK', 'Black', 'Asian']\n",
      "Spent time: 2.7379488945007324\n",
      "\n",
      "Random_forest:\n",
      "Best AUC Score for 5-fold: 0.8647407462805887\n",
      "Selected features: ['Age', 'Gender', 'Education', 'Nscore', 'Oscore', 'Ascore', 'Cscore', 'Impulsive', 'SS', 'USA', 'New Zealand', 'Country_Other', 'Australia', 'Ireland', 'Canada', 'UK', 'Black', 'Asian', 'White', 'Mixed-White/Black', 'Ethnicity_Other', 'Mixed-White/Asian', 'Mixed-Black/Asian']\n",
      "Spent time: 50.31685781478882\n",
      "\n",
      "SVM:\n",
      "Best AUC Score for 5-fold: 0.8629144717630768\n",
      "Selected features: ['Age', 'Gender', 'Education', 'Nscore', 'Oscore', 'Ascore', 'Cscore', 'Impulsive', 'SS', 'USA', 'New Zealand', 'Country_Other', 'Australia', 'Ireland', 'Canada', 'UK', 'Black', 'Asian', 'Ethnicity_Other', 'Mixed-White/Asian']\n",
      "Spent time: 56.96453595161438\n",
      "\n",
      "KNN:\n",
      "Best AUC Score for 5-fold: 0.8530936561046577\n",
      "Selected features: ['Age', 'Gender', 'Education', 'Oscore', 'Cscore', 'Impulsive', 'SS', 'USA', 'New Zealand', 'Country_Other', 'Australia', 'Ireland', 'Canada', 'UK', 'Black', 'Asian', 'Ethnicity_Other']\n",
      "Spent time: 3.315906047821045\n",
      "\n"
     ]
    }
   ],
   "source": [
    "# training\n",
    "Legalh_models = train(X_train, Legalh_label_train)"
   ]
  },
  {
   "cell_type": "code",
   "execution_count": 16,
   "metadata": {
    "canvas": {
     "comments": [],
     "componentType": "CodeCell",
     "copiedOriginId": null,
     "diskcache": false,
     "headerColor": "none",
     "id": "47625554-73dd-4d0c-9ae4-b62bdf00e7a9",
     "isComponent": false,
     "name": "",
     "parents": []
    }
   },
   "outputs": [
    {
     "name": "stdout",
     "output_type": "stream",
     "text": [
      "Decision_tree:\n",
      "Precision: 0.7522522522522522\n",
      "Recall: 0.6117216117216118\n",
      "\n",
      "Random_forest:\n",
      "Precision: 0.7747035573122529\n",
      "Recall: 0.717948717948718\n",
      "\n",
      "SVM:\n",
      "Precision: 0.7974137931034483\n",
      "Recall: 0.6776556776556777\n",
      "\n",
      "KNN:\n",
      "Precision: 0.7763157894736842\n",
      "Recall: 0.6483516483516484\n",
      "\n"
     ]
    },
    {
     "data": {
      "image/png": "[encoded data removed]",
      "text/plain": [
       "<Figure size 1440x360 with 8 Axes>"
      ]
     },
     "metadata": {
      "needs_background": "light"
     },
     "output_type": "display_data"
    },
    {
     "data": {
      "image/png": "[encoded data removed]",
      "text/plain": [
       "<Figure size 432x288 with 1 Axes>"
      ]
     },
     "metadata": {
      "needs_background": "light"
     },
     "output_type": "display_data"
    }
   ],
   "source": [
    "# testing\n",
    "test(X_test, Legalh_label_test, model_names, Legalh_models)"
   ]
  },
  {
   "cell_type": "code",
   "execution_count": 17,
   "metadata": {
    "canvas": {
     "comments": [],
     "componentType": "CodeCell",
     "copiedOriginId": null,
     "diskcache": false,
     "headerColor": "inherit",
     "id": "06c35b73-ccc2-4327-a2b8-42576fd6326a",
     "isComponent": false,
     "name": "",
     "parents": []
    }
   },
   "outputs": [],
   "source": [
    "# Legalh, Ecstasy, Cannabis, Nicotine, Caff, LSD, VSA"
   ]
  },
  {
   "cell_type": "markdown",
   "metadata": {
    "canvas": {
     "comments": [],
     "componentType": "CodeCell",
     "copiedOriginId": null,
     "diskcache": false,
     "headerColor": "inherit",
     "id": "d28f3472-b49f-43fc-8f4f-bd2bef637261",
     "isComponent": false,
     "name": "",
     "parents": []
    }
   },
   "source": [
    "### Label 2: Ecstasy"
   ]
  },
  {
   "cell_type": "code",
   "execution_count": 18,
   "metadata": {
    "canvas": {
     "comments": [],
     "componentType": "CodeCell",
     "copiedOriginId": null,
     "diskcache": false,
     "headerColor": "inherit",
     "id": "378a0a15-fbca-4790-b6e3-8301e5c92652",
     "isComponent": false,
     "name": "",
     "parents": []
    }
   },
   "outputs": [],
   "source": [
    "Ecstasy_label_train, Ecstasy_label_test = y_train['Ecstasy'].astype('int'), y_test['Ecstasy'].astype('int')"
   ]
  },
  {
   "cell_type": "code",
   "execution_count": 19,
   "metadata": {
    "canvas": {
     "comments": [],
     "componentType": "CodeCell",
     "copiedOriginId": null,
     "diskcache": false,
     "headerColor": "inherit",
     "id": "af580c19-294e-49f4-b6c9-08b67eec999f",
     "isComponent": false,
     "name": "",
     "parents": []
    }
   },
   "outputs": [
    {
     "name": "stdout",
     "output_type": "stream",
     "text": [
      "Number of class 0 in train: 763\n",
      "Number of class 1 in train: 499\n",
      "Number of class 0 in test: 371\n",
      "Number of class 1 in test: 252\n"
     ]
    }
   ],
   "source": [
    "print(\"Number of class 0 in train:\", len(Ecstasy_label_train[Ecstasy_label_train==0]))\n",
    "print(\"Number of class 1 in train:\", len(Ecstasy_label_train[Ecstasy_label_train==1]))\n",
    "print(\"Number of class 0 in test:\", len(Ecstasy_label_test[Ecstasy_label_test==0]))\n",
    "print(\"Number of class 1 in test:\", len(Ecstasy_label_test[Ecstasy_label_test==1]))"
   ]
  },
  {
   "cell_type": "code",
   "execution_count": 20,
   "metadata": {
    "canvas": {
     "comments": [],
     "componentType": "CodeCell",
     "copiedOriginId": null,
     "diskcache": false,
     "headerColor": "inherit",
     "id": "0a87fed0-b790-4bbf-a7ca-22705fc73aeb",
     "isComponent": false,
     "name": "",
     "parents": []
    }
   },
   "outputs": [
    {
     "name": "stdout",
     "output_type": "stream",
     "text": [
      "Decision_tree:\n",
      "Best AUC Score for 5-fold: 0.7225785130284613\n",
      "Selected features: ['Age', 'Gender', 'Education', 'Oscore', 'Ascore', 'Cscore', 'Impulsive', 'SS', 'USA', 'Country_Other', 'Australia', 'Ireland', 'UK', 'Black', 'Asian', 'Mixed-White/Black', 'Ethnicity_Other', 'Mixed-Black/Asian']\n",
      "Spent time: 3.1406168937683105\n",
      "\n",
      "Random_forest:\n",
      "Best AUC Score for 5-fold: 0.8150711084008299\n",
      "Selected features: ['Age', 'Gender', 'Education', 'Nscore', 'Oscore', 'Ascore', 'Cscore', 'Impulsive', 'SS', 'USA', 'Country_Other', 'Australia', 'Ireland', 'UK', 'Black', 'Asian', 'Mixed-White/Black', 'Ethnicity_Other', 'Mixed-Black/Asian']\n",
      "Spent time: 52.09369111061096\n",
      "\n",
      "SVM:\n",
      "Best AUC Score for 5-fold: 0.8160421240266441\n",
      "Selected features: ['Age', 'Gender', 'Education', 'Nscore', 'Escore', 'Oscore', 'Ascore', 'Cscore', 'Impulsive', 'SS', 'USA', 'Country_Other', 'Australia', 'Ireland', 'UK', 'Black', 'Asian', 'Mixed-White/Black', 'Ethnicity_Other', 'Mixed-White/Asian', 'Mixed-Black/Asian']\n",
      "Spent time: 57.721851110458374\n",
      "\n",
      "KNN:\n",
      "Best AUC Score for 5-fold: 0.8046808370078494\n",
      "Selected features: ['Age', 'Gender', 'Education', 'Oscore', 'Ascore', 'Cscore', 'Impulsive', 'SS', 'USA', 'Country_Other', 'Australia', 'Ireland', 'UK', 'Black', 'Asian', 'Ethnicity_Other', 'Mixed-Black/Asian']\n",
      "Spent time: 3.1615371704101562\n",
      "\n"
     ]
    }
   ],
   "source": [
    "# training\n",
    "Ecstasy_models = train(X_train, Ecstasy_label_train)"
   ]
  },
  {
   "cell_type": "code",
   "execution_count": 21,
   "metadata": {
    "canvas": {
     "comments": [],
     "componentType": "CodeCell",
     "copiedOriginId": null,
     "diskcache": false,
     "headerColor": "inherit",
     "id": "4fc771cc-1b01-44d8-999d-8007759eabcf",
     "isComponent": false,
     "name": "",
     "parents": []
    }
   },
   "outputs": [
    {
     "name": "stdout",
     "output_type": "stream",
     "text": [
      "Decision_tree:\n",
      "Precision: 0.5951417004048583\n",
      "Recall: 0.5833333333333334\n",
      "\n",
      "Random_forest:\n",
      "Precision: 0.6477272727272727\n",
      "Recall: 0.6785714285714286\n",
      "\n",
      "SVM:\n",
      "Precision: 0.6536964980544747\n",
      "Recall: 0.6666666666666666\n",
      "\n",
      "KNN:\n",
      "Precision: 0.6776859504132231\n",
      "Recall: 0.6507936507936508\n",
      "\n"
     ]
    },
    {
     "data": {
      "image/png": "[encoded data removed]",
      "text/plain": [
       "<Figure size 1440x360 with 8 Axes>"
      ]
     },
     "metadata": {
      "needs_background": "light"
     },
     "output_type": "display_data"
    },
    {
     "data": {
      "image/png": "[encoded data removed]",
      "text/plain": [
       "<Figure size 432x288 with 1 Axes>"
      ]
     },
     "metadata": {
      "needs_background": "light"
     },
     "output_type": "display_data"
    }
   ],
   "source": [
    "test(X_test, Ecstasy_label_test, model_names, Ecstasy_models)"
   ]
  },
  {
   "cell_type": "markdown",
   "metadata": {
    "canvas": {
     "comments": [],
     "componentType": "CodeCell",
     "copiedOriginId": null,
     "diskcache": false,
     "headerColor": "inherit",
     "id": "cce6fbf5-dd58-4793-818f-9f7ddef4574b",
     "isComponent": false,
     "name": "",
     "parents": []
    }
   },
   "source": [
    "### Label 3: Cannabis"
   ]
  },
  {
   "cell_type": "code",
   "execution_count": 22,
   "metadata": {
    "canvas": {
     "comments": [],
     "componentType": "CodeCell",
     "copiedOriginId": null,
     "diskcache": false,
     "headerColor": "inherit",
     "id": "07736f2d-9aa8-44d9-9fd8-ec3e5ab22d5b",
     "isComponent": false,
     "name": "",
     "parents": []
    }
   },
   "outputs": [],
   "source": [
    "Cannabis_label_train, Cannabis_label_test = y_train['Cannabis'].astype('int'), y_test['Cannabis'].astype('int')"
   ]
  },
  {
   "cell_type": "code",
   "execution_count": 23,
   "metadata": {
    "canvas": {
     "comments": [],
     "componentType": "CodeCell",
     "copiedOriginId": null,
     "diskcache": false,
     "headerColor": "inherit",
     "id": "b5c4edef-89e4-47e8-84a2-c5015fc40abd",
     "isComponent": false,
     "name": "",
     "parents": []
    }
   },
   "outputs": [
    {
     "name": "stdout",
     "output_type": "stream",
     "text": [
      "Number of class 0 in train: 432\n",
      "Number of class 1 in train: 830\n",
      "Number of class 0 in test: 188\n",
      "Number of class 1 in test: 435\n"
     ]
    }
   ],
   "source": [
    "print(\"Number of class 0 in train:\", len(Cannabis_label_train[Cannabis_label_train==0]))\n",
    "print(\"Number of class 1 in train:\", len(Cannabis_label_train[Cannabis_label_train==1]))\n",
    "print(\"Number of class 0 in test:\", len(Cannabis_label_test[Cannabis_label_test==0]))\n",
    "print(\"Number of class 1 in test:\", len(Cannabis_label_test[Cannabis_label_test==1]))"
   ]
  },
  {
   "cell_type": "code",
   "execution_count": 24,
   "metadata": {
    "canvas": {
     "comments": [],
     "componentType": "CodeCell",
     "copiedOriginId": null,
     "diskcache": false,
     "headerColor": "inherit",
     "id": "ccf428db-07a2-43a4-b569-b6cb2e34cf0d",
     "isComponent": false,
     "name": "",
     "parents": []
    }
   },
   "outputs": [
    {
     "name": "stdout",
     "output_type": "stream",
     "text": [
      "Decision_tree:\n",
      "Best AUC Score for 5-fold: 0.7860316164417092\n",
      "Selected features: ['Age', 'Gender', 'Education', 'Oscore', 'Cscore', 'Impulsive', 'SS', 'USA', 'New Zealand', 'Country_Other', 'Australia', 'UK', 'Black', 'Asian', 'Mixed-Black/Asian']\n",
      "Spent time: 2.880449056625366\n",
      "\n",
      "Random_forest:\n",
      "Best AUC Score for 5-fold: 0.877562696656715\n",
      "Selected features: ['Age', 'Gender', 'Education', 'Nscore', 'Oscore', 'Ascore', 'Cscore', 'Impulsive', 'SS', 'USA', 'New Zealand', 'Country_Other', 'Australia', 'Ireland', 'Canada', 'UK', 'Black', 'Asian', 'White', 'Ethnicity_Other', 'Mixed-White/Asian', 'Mixed-Black/Asian']\n",
      "Spent time: 48.903427839279175\n",
      "\n",
      "SVM:\n",
      "Best AUC Score for 5-fold: 0.8682772791245172\n",
      "Selected features: ['Age', 'Gender', 'Education', 'Nscore', 'Oscore', 'Ascore', 'Cscore', 'Impulsive', 'SS', 'USA', 'New Zealand', 'Country_Other', 'Australia', 'Ireland', 'Canada', 'UK', 'Black', 'Asian', 'White', 'Ethnicity_Other', 'Mixed-Black/Asian']\n",
      "Spent time: 47.37611222267151\n",
      "\n",
      "KNN:\n",
      "Best AUC Score for 5-fold: 0.8608056926986212\n",
      "Selected features: ['Age', 'Gender', 'Education', 'Nscore', 'Oscore', 'Ascore', 'Cscore', 'Impulsive', 'SS', 'USA', 'New Zealand', 'Country_Other', 'Australia', 'Ireland', 'Canada', 'UK', 'Black', 'Asian', 'Ethnicity_Other', 'Mixed-Black/Asian']\n",
      "Spent time: 3.0974600315093994\n",
      "\n"
     ]
    }
   ],
   "source": [
    "# training\n",
    "Cannabis_models = train(X_train, Cannabis_label_train)"
   ]
  },
  {
   "cell_type": "code",
   "execution_count": 25,
   "metadata": {
    "canvas": {
     "comments": [],
     "componentType": "CodeCell",
     "copiedOriginId": null,
     "diskcache": false,
     "headerColor": "inherit",
     "id": "010352a8-acf5-409b-8168-aab6db28de64",
     "isComponent": false,
     "name": "",
     "parents": []
    }
   },
   "outputs": [
    {
     "name": "stdout",
     "output_type": "stream",
     "text": [
      "Decision_tree:\n",
      "Precision: 0.8525\n",
      "Recall: 0.7839080459770115\n",
      "\n",
      "Random_forest:\n",
      "Precision: 0.8587443946188341\n",
      "Recall: 0.8804597701149425\n",
      "\n",
      "SVM:\n",
      "Precision: 0.8839907192575406\n",
      "Recall: 0.8758620689655172\n",
      "\n",
      "KNN:\n",
      "Precision: 0.8880778588807786\n",
      "Recall: 0.8390804597701149\n",
      "\n"
     ]
    },
    {
     "data": {
      "image/png": "[encoded data removed]",
      "text/plain": [
       "<Figure size 1440x360 with 8 Axes>"
      ]
     },
     "metadata": {
      "needs_background": "light"
     },
     "output_type": "display_data"
    },
    {
     "data": {
      "image/png": "[encoded data removed]",
      "text/plain": [
       "<Figure size 432x288 with 1 Axes>"
      ]
     },
     "metadata": {
      "needs_background": "light"
     },
     "output_type": "display_data"
    }
   ],
   "source": [
    "test(X_test, Cannabis_label_test, model_names, Cannabis_models)"
   ]
  },
  {
   "cell_type": "markdown",
   "metadata": {
    "canvas": {
     "comments": [],
     "componentType": "CodeCell",
     "copiedOriginId": null,
     "diskcache": false,
     "headerColor": "inherit",
     "id": "6f41047e-50b7-4075-8a33-742fcf77e865",
     "isComponent": false,
     "name": "",
     "parents": []
    }
   },
   "source": [
    "### Label 4: Nicotine"
   ]
  },
  {
   "cell_type": "code",
   "execution_count": 26,
   "metadata": {
    "canvas": {
     "comments": [],
     "componentType": "CodeCell",
     "copiedOriginId": null,
     "diskcache": false,
     "headerColor": "inherit",
     "id": "e7a62406-fe78-4806-b2e9-5bde1cd21bb3",
     "isComponent": false,
     "name": "",
     "parents": []
    }
   },
   "outputs": [],
   "source": [
    "Nicotine_label_train, Nicotine_label_test = y_train['Nicotine'].astype('int'), y_test['Nicotine'].astype('int')"
   ]
  },
  {
   "cell_type": "code",
   "execution_count": 27,
   "metadata": {
    "canvas": {
     "comments": [],
     "componentType": "CodeCell",
     "copiedOriginId": null,
     "diskcache": false,
     "headerColor": "inherit",
     "id": "f115327a-2778-4fd7-9ea4-347ae123f9a9",
     "isComponent": false,
     "name": "",
     "parents": []
    }
   },
   "outputs": [
    {
     "name": "stdout",
     "output_type": "stream",
     "text": [
      "Number of class 0 in train: 412\n",
      "Number of class 1 in train: 850\n",
      "Number of class 0 in test: 209\n",
      "Number of class 1 in test: 414\n"
     ]
    }
   ],
   "source": [
    "print(\"Number of class 0 in train:\", len(Nicotine_label_train[Nicotine_label_train==0]))\n",
    "print(\"Number of class 1 in train:\", len(Nicotine_label_train[Nicotine_label_train==1]))\n",
    "print(\"Number of class 0 in test:\", len(Nicotine_label_test[Nicotine_label_test==0]))\n",
    "print(\"Number of class 1 in test:\", len(Nicotine_label_test[Nicotine_label_test==1]))"
   ]
  },
  {
   "cell_type": "code",
   "execution_count": 28,
   "metadata": {
    "canvas": {
     "comments": [],
     "componentType": "CodeCell",
     "copiedOriginId": null,
     "diskcache": false,
     "headerColor": "inherit",
     "id": "14908c88-ec42-4511-b839-de68cfe88861",
     "isComponent": false,
     "name": "",
     "parents": []
    }
   },
   "outputs": [
    {
     "name": "stdout",
     "output_type": "stream",
     "text": [
      "Decision_tree:\n",
      "Best AUC Score for 5-fold: 0.6585549082989057\n",
      "Selected features: ['Age', 'Gender', 'Impulsive', 'SS', 'USA', 'Country_Other', 'Ireland', 'UK', 'Black', 'Asian']\n",
      "Spent time: 2.682427167892456\n",
      "\n",
      "Random_forest:\n",
      "Best AUC Score for 5-fold: 0.7473575219097335\n",
      "Selected features: ['Age', 'Gender', 'Education', 'Nscore', 'Oscore', 'Ascore', 'Cscore', 'Impulsive', 'SS', 'USA', 'Country_Other', 'Australia', 'Ireland', 'UK', 'Black', 'Asian', 'Mixed-White/Black', 'Ethnicity_Other', 'Mixed-White/Asian']\n",
      "Spent time: 48.19208788871765\n",
      "\n",
      "SVM:\n",
      "Best AUC Score for 5-fold: 0.7403550500423501\n",
      "Selected features: ['Age', 'Gender', 'Education', 'Nscore', 'Oscore', 'Ascore', 'Cscore', 'Impulsive', 'SS', 'USA', 'Country_Other', 'Australia', 'Ireland', 'UK', 'Black', 'Asian', 'Ethnicity_Other', 'Mixed-White/Asian']\n",
      "Spent time: 54.639586210250854\n",
      "\n",
      "KNN:\n",
      "Best AUC Score for 5-fold: 0.7427690100430415\n",
      "Selected features: ['Age', 'Gender', 'Education', 'Nscore', 'Oscore', 'Ascore', 'Cscore', 'Impulsive', 'SS', 'USA', 'Country_Other', 'Australia', 'Ireland', 'UK', 'Black', 'Asian', 'White', 'Mixed-White/Black', 'Ethnicity_Other', 'Mixed-White/Asian']\n",
      "Spent time: 3.1431620121002197\n",
      "\n"
     ]
    }
   ],
   "source": [
    "# training\n",
    "Nicotine_models = train(X_train, Nicotine_label_train)"
   ]
  },
  {
   "cell_type": "code",
   "execution_count": 29,
   "metadata": {
    "canvas": {
     "comments": [],
     "componentType": "CodeCell",
     "copiedOriginId": null,
     "diskcache": false,
     "headerColor": "inherit",
     "id": "5d9483fc-6c34-42cf-a37d-d7e895d92d0b",
     "isComponent": false,
     "name": "",
     "parents": []
    }
   },
   "outputs": [
    {
     "name": "stdout",
     "output_type": "stream",
     "text": [
      "Decision_tree:\n",
      "Precision: 0.726790450928382\n",
      "Recall: 0.6618357487922706\n",
      "\n",
      "Random_forest:\n",
      "Precision: 0.7445109780439122\n",
      "Recall: 0.9009661835748792\n",
      "\n",
      "SVM:\n",
      "Precision: 0.6645264847512039\n",
      "Recall: 1.0\n",
      "\n",
      "KNN:\n",
      "Precision: 0.7603485838779956\n",
      "Recall: 0.8429951690821256\n",
      "\n"
     ]
    },
    {
     "data": {
      "image/png": "[encoded data removed]",
      "text/plain": [
       "<Figure size 1440x360 with 8 Axes>"
      ]
     },
     "metadata": {
      "needs_background": "light"
     },
     "output_type": "display_data"
    },
    {
     "data": {
      "image/png": "[encoded data removed]",
      "text/plain": [
       "<Figure size 432x288 with 1 Axes>"
      ]
     },
     "metadata": {
      "needs_background": "light"
     },
     "output_type": "display_data"
    }
   ],
   "source": [
    "test(X_test, Nicotine_label_test, model_names, Nicotine_models)"
   ]
  },
  {
   "cell_type": "markdown",
   "metadata": {
    "canvas": {
     "comments": [],
     "componentType": "CodeCell",
     "copiedOriginId": null,
     "diskcache": false,
     "headerColor": "inherit",
     "id": "535384e7-5b5a-4e53-9108-aec0ec06c27c",
     "isComponent": false,
     "name": "",
     "parents": []
    }
   },
   "source": [
    "### Label 5: Caff"
   ]
  },
  {
   "cell_type": "code",
   "execution_count": 30,
   "metadata": {
    "canvas": {
     "comments": [],
     "componentType": "CodeCell",
     "copiedOriginId": null,
     "diskcache": false,
     "headerColor": "inherit",
     "id": "67019536-f975-4570-b308-2903ef02656e",
     "isComponent": false,
     "name": "",
     "parents": []
    }
   },
   "outputs": [],
   "source": [
    "Caff_label_train, Caff_label_test = y_train['Caff'].astype('int'), y_test['Caff'].astype('int')"
   ]
  },
  {
   "cell_type": "code",
   "execution_count": 31,
   "metadata": {
    "canvas": {
     "comments": [],
     "componentType": "CodeCell",
     "copiedOriginId": null,
     "diskcache": false,
     "headerColor": "inherit",
     "id": "424440f3-ea84-4460-979b-fbf824578e16",
     "isComponent": false,
     "name": "",
     "parents": []
    }
   },
   "outputs": [
    {
     "name": "stdout",
     "output_type": "stream",
     "text": [
      "Number of class 0 in train: 26\n",
      "Number of class 1 in train: 1236\n",
      "Number of class 0 in test: 11\n",
      "Number of class 1 in test: 612\n"
     ]
    }
   ],
   "source": [
    "print(\"Number of class 0 in train:\", len(Caff_label_train[Caff_label_train==0]))\n",
    "print(\"Number of class 1 in train:\", len(Caff_label_train[Caff_label_train==1]))\n",
    "print(\"Number of class 0 in test:\", len(Caff_label_test[Caff_label_test==0]))\n",
    "print(\"Number of class 1 in test:\", len(Caff_label_test[Caff_label_test==1]))"
   ]
  },
  {
   "cell_type": "code",
   "execution_count": 32,
   "metadata": {
    "canvas": {
     "comments": [],
     "componentType": "CodeCell",
     "copiedOriginId": null,
     "diskcache": false,
     "headerColor": "inherit",
     "id": "27bc8ef2-80a0-416d-8350-2230e86b39e0",
     "isComponent": false,
     "name": "",
     "parents": []
    }
   },
   "outputs": [
    {
     "name": "stdout",
     "output_type": "stream",
     "text": [
      "Decision_tree:\n",
      "Best AUC Score for 5-fold: 0.6006108789343084\n",
      "Selected features: ['Age', 'Gender', 'Escore', 'Oscore', 'Cscore', 'Impulsive', 'SS', 'USA', 'New Zealand', 'Country_Other', 'Australia', 'Ireland', 'Canada', 'UK', 'Black', 'Asian', 'White', 'Mixed-White/Black', 'Ethnicity_Other', 'Mixed-White/Asian', 'Mixed-Black/Asian']\n",
      "Spent time: 2.3722479343414307\n",
      "\n",
      "Random_forest:\n",
      "Best AUC Score for 5-fold: 0.6731239388794567\n",
      "Selected features: ['Age', 'Gender', 'Escore', 'Oscore', 'Cscore', 'Impulsive', 'SS', 'USA', 'New Zealand', 'Country_Other', 'Ireland', 'Canada', 'UK', 'Black', 'Asian', 'White', 'Mixed-White/Black', 'Mixed-White/Asian', 'Mixed-Black/Asian']\n",
      "Spent time: 40.18596291542053\n",
      "\n",
      "SVM:\n",
      "Best AUC Score for 5-fold: 0.7008997213878368\n",
      "Selected features: ['Age', 'Gender', 'SS', 'USA', 'Country_Other', 'Canada', 'UK', 'Black', 'Asian', 'White']\n",
      "Spent time: 10.082680702209473\n",
      "\n",
      "KNN:\n",
      "Best AUC Score for 5-fold: 0.6277096121196291\n",
      "Selected features: ['Age', 'Gender', 'Escore', 'Oscore', 'Cscore', 'Impulsive', 'SS', 'USA', 'Country_Other', 'Ireland', 'Canada', 'UK', 'Black', 'Asian', 'White', 'Mixed-White/Black', 'Mixed-White/Asian', 'Mixed-Black/Asian']\n",
      "Spent time: 3.0353341102600098\n",
      "\n"
     ]
    }
   ],
   "source": [
    "# training\n",
    "Caff_models = train(X_train, Caff_label_train)"
   ]
  },
  {
   "cell_type": "code",
   "execution_count": 33,
   "metadata": {
    "canvas": {
     "comments": [],
     "componentType": "CodeCell",
     "copiedOriginId": null,
     "diskcache": false,
     "headerColor": "inherit",
     "id": "253fd9e0-f8fc-408c-8924-e96aee94e054",
     "isComponent": false,
     "name": "",
     "parents": []
    }
   },
   "outputs": [
    {
     "name": "stdout",
     "output_type": "stream",
     "text": [
      "Decision_tree:\n",
      "Precision: 0.9818181818181818\n",
      "Recall: 0.9705882352941176\n",
      "\n",
      "Random_forest:\n",
      "Precision: 0.9823434991974318\n",
      "Recall: 1.0\n",
      "\n",
      "SVM:\n",
      "Precision: 0.9822866344605475\n",
      "Recall: 0.9967320261437909\n",
      "\n",
      "KNN:\n",
      "Precision: 0.9823434991974318\n",
      "Recall: 1.0\n",
      "\n"
     ]
    },
    {
     "data": {
      "image/png": "[encoded data removed]",
      "text/plain": [
       "<Figure size 1440x360 with 8 Axes>"
      ]
     },
     "metadata": {
      "needs_background": "light"
     },
     "output_type": "display_data"
    },
    {
     "data": {
      "image/png": "[encoded data removed]",
      "text/plain": [
       "<Figure size 432x288 with 1 Axes>"
      ]
     },
     "metadata": {
      "needs_background": "light"
     },
     "output_type": "display_data"
    }
   ],
   "source": [
    "test(X_test, Caff_label_test, model_names, Caff_models)"
   ]
  },
  {
   "cell_type": "markdown",
   "metadata": {
    "canvas": {
     "comments": [],
     "componentType": "CodeCell",
     "copiedOriginId": null,
     "diskcache": false,
     "headerColor": "inherit",
     "id": "e0accf29-575b-4a25-978c-5708e038e754",
     "isComponent": false,
     "name": "",
     "parents": []
    }
   },
   "source": [
    "### Label 6: LSD"
   ]
  },
  {
   "cell_type": "code",
   "execution_count": 34,
   "metadata": {
    "canvas": {
     "comments": [],
     "componentType": "CodeCell",
     "copiedOriginId": null,
     "diskcache": false,
     "headerColor": "inherit",
     "id": "414f7c5a-b7d5-4885-a810-efd4abcdd47a",
     "isComponent": false,
     "name": "",
     "parents": []
    }
   },
   "outputs": [],
   "source": [
    "LSD_label_train, LSD_label_test = y_train['LSD'].astype('int'), y_test['LSD'].astype('int')"
   ]
  },
  {
   "cell_type": "code",
   "execution_count": 35,
   "metadata": {
    "canvas": {
     "comments": [],
     "componentType": "CodeCell",
     "copiedOriginId": null,
     "diskcache": false,
     "headerColor": "inherit",
     "id": "a5c877e5-cda9-449c-a6a2-71e9c31bd75c",
     "isComponent": false,
     "name": "",
     "parents": []
    }
   },
   "outputs": [
    {
     "name": "stdout",
     "output_type": "stream",
     "text": [
      "Number of class 0 in train: 895\n",
      "Number of class 1 in train: 367\n",
      "Number of class 0 in test: 433\n",
      "Number of class 1 in test: 190\n"
     ]
    }
   ],
   "source": [
    "print(\"Number of class 0 in train:\", len(LSD_label_train[LSD_label_train==0]))\n",
    "print(\"Number of class 1 in train:\", len(LSD_label_train[LSD_label_train==1]))\n",
    "print(\"Number of class 0 in test:\", len(LSD_label_test[LSD_label_test==0]))\n",
    "print(\"Number of class 1 in test:\", len(LSD_label_test[LSD_label_test==1]))"
   ]
  },
  {
   "cell_type": "code",
   "execution_count": 36,
   "metadata": {
    "canvas": {
     "comments": [],
     "componentType": "CodeCell",
     "copiedOriginId": null,
     "diskcache": false,
     "headerColor": "inherit",
     "id": "4526e02c-7337-48c1-913c-28efeddc413f",
     "isComponent": false,
     "name": "",
     "parents": []
    }
   },
   "outputs": [
    {
     "name": "stdout",
     "output_type": "stream",
     "text": [
      "Decision_tree:\n",
      "Best AUC Score for 5-fold: 0.7649590778503307\n",
      "Selected features: ['Age', 'Gender', 'Oscore', 'Impulsive', 'SS', 'USA', 'New Zealand', 'Country_Other', 'Australia', 'UK', 'Black', 'Ethnicity_Other']\n",
      "Spent time: 2.5333900451660156\n",
      "\n",
      "Random_forest:\n",
      "Best AUC Score for 5-fold: 0.8668036253901411\n",
      "Selected features: ['Age', 'Gender', 'Education', 'Nscore', 'Oscore', 'Ascore', 'Cscore', 'Impulsive', 'SS', 'USA', 'New Zealand', 'Country_Other', 'Australia', 'UK', 'Black', 'Asian', 'Ethnicity_Other', 'Mixed-White/Asian', 'Mixed-Black/Asian']\n",
      "Spent time: 45.99701762199402\n",
      "\n",
      "SVM:\n",
      "Best AUC Score for 5-fold: 0.8590055617720729\n",
      "Selected features: ['Age', 'Gender', 'Oscore', 'Impulsive', 'SS', 'USA', 'New Zealand', 'Country_Other', 'Australia', 'UK', 'Black', 'Ethnicity_Other']\n",
      "Spent time: 46.42641997337341\n",
      "\n",
      "KNN:\n",
      "Best AUC Score for 5-fold: 0.8717872958287745\n",
      "Selected features: ['Age', 'Gender', 'Oscore', 'Impulsive', 'SS', 'USA', 'New Zealand', 'Country_Other', 'Australia', 'UK', 'Black', 'Ethnicity_Other']\n",
      "Spent time: 3.157817840576172\n",
      "\n"
     ]
    }
   ],
   "source": [
    "# training\n",
    "LSD_models = train(X_train, LSD_label_train)"
   ]
  },
  {
   "cell_type": "code",
   "execution_count": 37,
   "metadata": {
    "canvas": {
     "comments": [],
     "componentType": "CodeCell",
     "copiedOriginId": null,
     "diskcache": false,
     "headerColor": "inherit",
     "id": "046a9050-e625-4cf3-92d3-5fcc0b2357f8",
     "isComponent": false,
     "name": "",
     "parents": []
    }
   },
   "outputs": [
    {
     "name": "stdout",
     "output_type": "stream",
     "text": [
      "Decision_tree:\n",
      "Precision: 0.5513513513513514\n",
      "Recall: 0.5368421052631579\n",
      "\n",
      "Random_forest:\n",
      "Precision: 0.5935828877005348\n",
      "Recall: 0.5842105263157895\n",
      "\n",
      "SVM:\n",
      "Precision: 0.6062176165803109\n",
      "Recall: 0.6157894736842106\n",
      "\n",
      "KNN:\n",
      "Precision: 0.6097560975609756\n",
      "Recall: 0.6578947368421053\n",
      "\n"
     ]
    },
    {
     "data": {
      "image/png": "[encoded data removed]",
      "text/plain": [
       "<Figure size 1440x360 with 8 Axes>"
      ]
     },
     "metadata": {
      "needs_background": "light"
     },
     "output_type": "display_data"
    },
    {
     "data": {
      "image/png": "[encoded data removed]",
      "text/plain": [
       "<Figure size 432x288 with 1 Axes>"
      ]
     },
     "metadata": {
      "needs_background": "light"
     },
     "output_type": "display_data"
    }
   ],
   "source": [
    "test(X_test, LSD_label_test, model_names, LSD_models)"
   ]
  },
  {
   "cell_type": "markdown",
   "metadata": {
    "canvas": {
     "comments": [],
     "componentType": "CodeCell",
     "copiedOriginId": null,
     "diskcache": false,
     "headerColor": "inherit",
     "id": "a994b5ed-85cc-4a64-8105-2f757b0cfa0c",
     "isComponent": false,
     "name": "",
     "parents": []
    }
   },
   "source": [
    "### Label 7: VSA"
   ]
  },
  {
   "cell_type": "code",
   "execution_count": 38,
   "metadata": {
    "canvas": {
     "comments": [],
     "componentType": "CodeCell",
     "copiedOriginId": null,
     "diskcache": false,
     "headerColor": "inherit",
     "id": "80d23cdb-360b-4790-b12a-753b18f5df28",
     "isComponent": false,
     "name": "",
     "parents": []
    }
   },
   "outputs": [],
   "source": [
    "VSA_label_train, VSA_label_test = y_train['VSA'].astype('int'), y_test['VSA'].astype('int')"
   ]
  },
  {
   "cell_type": "code",
   "execution_count": 39,
   "metadata": {
    "canvas": {
     "comments": [],
     "componentType": "CodeCell",
     "copiedOriginId": null,
     "diskcache": false,
     "headerColor": "inherit",
     "id": "b2b0107d-b9f3-42bd-b438-f2a2e1986cda",
     "isComponent": false,
     "name": "",
     "parents": []
    }
   },
   "outputs": [
    {
     "name": "stdout",
     "output_type": "stream",
     "text": [
      "Number of class 0 in train: 1113\n",
      "Number of class 1 in train: 149\n",
      "Number of class 0 in test: 542\n",
      "Number of class 1 in test: 81\n"
     ]
    }
   ],
   "source": [
    "print(\"Number of class 0 in train:\", len(VSA_label_train[VSA_label_train==0]))\n",
    "print(\"Number of class 1 in train:\", len(VSA_label_train[VSA_label_train==1]))\n",
    "print(\"Number of class 0 in test:\", len(VSA_label_test[VSA_label_test==0]))\n",
    "print(\"Number of class 1 in test:\", len(VSA_label_test[VSA_label_test==1]))"
   ]
  },
  {
   "cell_type": "code",
   "execution_count": 40,
   "metadata": {
    "canvas": {
     "comments": [],
     "componentType": "CodeCell",
     "copiedOriginId": null,
     "diskcache": false,
     "headerColor": "inherit",
     "id": "0820f1ab-90f5-4809-a351-9f25e198090a",
     "isComponent": false,
     "name": "",
     "parents": []
    }
   },
   "outputs": [
    {
     "name": "stdout",
     "output_type": "stream",
     "text": [
      "Decision_tree:\n",
      "Best AUC Score for 5-fold: 0.690702123183954\n",
      "Selected features: ['Age', 'Gender', 'Education', 'Cscore', 'Impulsive', 'SS', 'USA', 'Australia', 'Ireland', 'UK', 'Black', 'Ethnicity_Other']\n",
      "Spent time: 2.5311381816864014\n",
      "\n",
      "Random_forest:\n",
      "Best AUC Score for 5-fold: 0.8231073976404113\n",
      "Selected features: ['Age', 'Gender', 'Education', 'Oscore', 'Cscore', 'Impulsive', 'SS', 'USA', 'Australia', 'Ireland', 'UK', 'Black', 'Mixed-White/Black', 'Ethnicity_Other']\n",
      "Spent time: 44.121253967285156\n",
      "\n",
      "SVM:\n",
      "Best AUC Score for 5-fold: 0.7478236331274835\n",
      "Selected features: ['Age', 'Gender', 'Education', 'Nscore', 'Escore', 'Oscore', 'Ascore', 'Cscore', 'Impulsive', 'SS', 'USA', 'New Zealand', 'Country_Other', 'Australia', 'Ireland', 'Canada', 'UK', 'Black', 'White', 'Mixed-White/Black', 'Ethnicity_Other', 'Mixed-White/Asian', 'Mixed-Black/Asian']\n",
      "Spent time: 29.96605086326599\n",
      "\n",
      "KNN:\n",
      "Best AUC Score for 5-fold: 0.8022666566365345\n",
      "Selected features: ['Age', 'Gender', 'Education', 'Nscore', 'Oscore', 'Ascore', 'Cscore', 'Impulsive', 'SS', 'USA', 'New Zealand', 'Australia', 'Ireland', 'Canada', 'UK', 'Black', 'Mixed-White/Black', 'Ethnicity_Other', 'Mixed-White/Asian', 'Mixed-Black/Asian']\n",
      "Spent time: 3.097902774810791\n",
      "\n"
     ]
    }
   ],
   "source": [
    "# training\n",
    "VSA_models = train(X_train, VSA_label_train)"
   ]
  },
  {
   "cell_type": "code",
   "execution_count": 41,
   "metadata": {
    "canvas": {
     "comments": [],
     "componentType": "CodeCell",
     "copiedOriginId": null,
     "diskcache": false,
     "headerColor": "inherit",
     "id": "7878defe-0659-4292-b4ff-bab10900929f",
     "isComponent": false,
     "name": "",
     "parents": []
    }
   },
   "outputs": [
    {
     "name": "stdout",
     "output_type": "stream",
     "text": [
      "Decision_tree:\n",
      "Precision: 0.36486486486486486\n",
      "Recall: 0.3333333333333333\n",
      "\n",
      "Random_forest:\n",
      "Precision: 0.2727272727272727\n",
      "Recall: 0.037037037037037035\n",
      "\n",
      "SVM:\n",
      "Precision: 0.3333333333333333\n",
      "Recall: 0.1728395061728395\n",
      "\n",
      "KNN:\n",
      "Precision: 0.0\n",
      "Recall: 0.0\n",
      "\n"
     ]
    },
    {
     "name": "stderr",
     "output_type": "stream",
     "text": [
      "/opt/anaconda3/lib/python3.7/site-packages/sklearn/metrics/_classification.py:1308: UndefinedMetricWarning: Precision is ill-defined and being set to 0.0 due to no predicted samples. Use `zero_division` parameter to control this behavior.\n",
      "  _warn_prf(average, modifier, msg_start, len(result))\n"
     ]
    },
    {
     "data": {
      "image/png": "[encoded data removed]",
      "text/plain": [
       "<Figure size 1440x360 with 8 Axes>"
      ]
     },
     "metadata": {
      "needs_background": "light"
     },
     "output_type": "display_data"
    },
    {
     "data": {
      "image/png": "[encoded data removed]",
      "text/plain": [
       "<Figure size 432x288 with 1 Axes>"
      ]
     },
     "metadata": {
      "needs_background": "light"
     },
     "output_type": "display_data"
    }
   ],
   "source": [
    "test(X_test, VSA_label_test, model_names, VSA_models)"
   ]
  },
  {
   "cell_type": "code",
   "execution_count": null,
   "metadata": {
    "canvas": {
     "comments": [],
     "componentType": "CodeCell",
     "copiedOriginId": null,
     "diskcache": false,
     "headerColor": "inherit",
     "id": "b51a4f64-8ac4-4bae-a521-cc63e567de3a",
     "isComponent": false,
     "name": "",
     "parents": []
    }
   },
   "outputs": [],
   "source": []
  }
 ],
 "metadata": {
  "canvas": {
   "colorPalette": [
    "inherit",
    "inherit",
    "inherit",
    "inherit",
    "inherit",
    "inherit",
    "inherit",
    "inherit",
    "inherit",
    "inherit"
   ],
   "parameters": [],
   "version": "1.0"
  },
  "kernelspec": {
   "display_name": "Python 3",
   "language": "python",
   "name": "python3"
  },
  "language_info": {
   "codemirror_mode": {
    "name": "ipython",
    "version": 3
   },
   "file_extension": ".py",
   "mimetype": "text/x-python",
   "name": "python",
   "nbconvert_exporter": "python",
   "pygments_lexer": "ipython3",
   "version": "3.7.9"
  },
  "vscode": {
   "interpreter": {
    "hash": "40d3a090f54c6569ab1632332b64b2c03c39dcf918b08424e98f38b5ae0af88f"
   }
  }
 },
 "nbformat": 4,
 "nbformat_minor": 4
}
