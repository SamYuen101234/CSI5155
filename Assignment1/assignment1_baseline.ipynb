{
 "cells": [
  {
   "cell_type": "markdown",
   "metadata": {
    "canvas": {
     "comments": [],
     "componentType": "CodeCell",
     "copiedOriginId": null,
     "diskcache": false,
     "headerColor": "inherit",
     "id": "c719bf81-d7ef-417d-bc48-95baec4ea918",
     "isComponent": false,
     "name": "",
     "parents": []
    }
   },
   "source": [
    "This notebook follows the basline model and the selected features in the paper"
   ]
  },
  {
   "cell_type": "code",
   "execution_count": 1,
   "metadata": {
    "canvas": {
     "comments": [],
     "componentType": "CodeCell",
     "copiedOriginId": null,
     "diskcache": false,
     "headerColor": "none",
     "id": "7bafa6eb-cee9-495c-9685-617d7f479463",
     "isComponent": false,
     "name": "",
     "parents": []
    },
    "tags": []
   },
   "outputs": [],
   "source": [
    "import pandas as pd\n",
    "from sklearn.model_selection import train_test_split, RandomizedSearchCV\n",
    "from sklearn.feature_selection import SelectKBest, chi2, mutual_info_classif\n",
    "from sklearn.preprocessing import OrdinalEncoder, MinMaxScaler\n",
    "from sklearn.pipeline import Pipeline\n",
    "from sklearn.tree import DecisionTreeClassifier\n",
    "from sklearn.svm import SVC\n",
    "from sklearn.metrics import recall_score, confusion_matrix, ConfusionMatrixDisplay, precision_score, roc_auc_score, roc_curve, plot_roc_curve\n",
    "from sklearn.ensemble import RandomForestClassifier\n",
    "from sklearn.neighbors import KNeighborsClassifier\n",
    "\n",
    "import matplotlib.pyplot as plt\n",
    "import time\n",
    "import numpy as np"
   ]
  },
  {
   "cell_type": "code",
   "execution_count": 2,
   "metadata": {
    "canvas": {
     "comments": [],
     "componentType": "CodeCell",
     "copiedOriginId": null,
     "diskcache": false,
     "headerColor": "none",
     "id": "3ea79c52-bb30-4cb0-ae99-41d9a9631e6a",
     "isComponent": false,
     "name": "",
     "parents": []
    }
   },
   "outputs": [],
   "source": [
    "from unicodedata import name\n",
    "\n",
    "\n",
    "columns = [\n",
    "           \"ID\", \"Age\", \"Gender\", \"Education\", \"Country\", \n",
    "           \"Ethnicity\", \"Nscore\", \"Escore\", \"Oscore\", \n",
    "           \"Ascore\", \"Cscore\", \"Impulsive\", \"SS\", \n",
    "           \"Alcohol\", \"Amphet\", \"Amyl\", \"Benzos\", \n",
    "           \"Caff\", \"Cannabis\", \"Choc\", \"Coke\", \n",
    "           \"Crack\", \"Ecstasy\", \"Heroin\", \"Ketamine\", \n",
    "           \"Legalh\", \"LSD\", \"Meth\", \"Mushrooms\", \n",
    "           \"Nicotine\", \"Semer\", \"VSA\"\n",
    "           ]\n",
    "\n",
    "data = pd.read_csv(\"drug_consumption.data\", header = None, names=columns)"
   ]
  },
  {
   "cell_type": "code",
   "execution_count": 3,
   "metadata": {
    "canvas": {
     "comments": [],
     "componentType": "CodeCell",
     "copiedOriginId": null,
     "diskcache": false,
     "headerColor": "none",
     "id": "d8e310a9-c74d-4b7a-bc4a-704577b6af82",
     "isComponent": false,
     "name": "",
     "parents": []
    }
   },
   "outputs": [
    {
     "data": {
      "text/plain": [
       "0"
      ]
     },
     "execution_count": 3,
     "metadata": {},
     "output_type": "execute_result"
    }
   ],
   "source": [
    "# checking nan data\n",
    "data.isna().sum().sum()"
   ]
  },
  {
   "cell_type": "code",
   "execution_count": 4,
   "metadata": {
    "canvas": {
     "comments": [],
     "componentType": "CodeCell",
     "copiedOriginId": null,
     "diskcache": false,
     "headerColor": "none",
     "id": "0ded9d6a-c1ef-42af-90f5-99e7586924e1",
     "isComponent": false,
     "name": "",
     "parents": []
    }
   },
   "outputs": [],
   "source": [
    "features = data.iloc[:,1:13]"
   ]
  },
  {
   "cell_type": "code",
   "execution_count": 5,
   "metadata": {
    "canvas": {
     "comments": [],
     "componentType": "CodeCell",
     "copiedOriginId": null,
     "diskcache": false,
     "headerColor": "none",
     "id": "f413c942-0c19-4e5b-b76e-e6430c41c3c9",
     "isComponent": false,
     "name": "",
     "parents": []
    }
   },
   "outputs": [
    {
     "data": {
      "text/html": [
       "<div>\n",
       "<style scoped>\n",
       "    .dataframe tbody tr th:only-of-type {\n",
       "        vertical-align: middle;\n",
       "    }\n",
       "\n",
       "    .dataframe tbody tr th {\n",
       "        vertical-align: top;\n",
       "    }\n",
       "\n",
       "    .dataframe thead th {\n",
       "        text-align: right;\n",
       "    }\n",
       "</style>\n",
       "<table border=\"1\" class=\"dataframe\">\n",
       "  <thead>\n",
       "    <tr style=\"text-align: right;\">\n",
       "      <th></th>\n",
       "      <th>Alcohol</th>\n",
       "      <th>Amphet</th>\n",
       "      <th>Amyl</th>\n",
       "      <th>Benzos</th>\n",
       "      <th>Caff</th>\n",
       "      <th>Cannabis</th>\n",
       "      <th>Choc</th>\n",
       "      <th>Coke</th>\n",
       "      <th>Crack</th>\n",
       "      <th>Ecstasy</th>\n",
       "      <th>Heroin</th>\n",
       "      <th>Ketamine</th>\n",
       "      <th>Legalh</th>\n",
       "      <th>LSD</th>\n",
       "      <th>Meth</th>\n",
       "      <th>Mushrooms</th>\n",
       "      <th>Nicotine</th>\n",
       "      <th>Semer</th>\n",
       "      <th>VSA</th>\n",
       "    </tr>\n",
       "  </thead>\n",
       "  <tbody>\n",
       "    <tr>\n",
       "      <th>0</th>\n",
       "      <td>1</td>\n",
       "      <td>1</td>\n",
       "      <td>0</td>\n",
       "      <td>1</td>\n",
       "      <td>1</td>\n",
       "      <td>0</td>\n",
       "      <td>1</td>\n",
       "      <td>0</td>\n",
       "      <td>0</td>\n",
       "      <td>0</td>\n",
       "      <td>0</td>\n",
       "      <td>0</td>\n",
       "      <td>0</td>\n",
       "      <td>0</td>\n",
       "      <td>0</td>\n",
       "      <td>0</td>\n",
       "      <td>1</td>\n",
       "      <td>0</td>\n",
       "      <td>0</td>\n",
       "    </tr>\n",
       "    <tr>\n",
       "      <th>1</th>\n",
       "      <td>1</td>\n",
       "      <td>1</td>\n",
       "      <td>1</td>\n",
       "      <td>0</td>\n",
       "      <td>1</td>\n",
       "      <td>1</td>\n",
       "      <td>1</td>\n",
       "      <td>1</td>\n",
       "      <td>0</td>\n",
       "      <td>1</td>\n",
       "      <td>0</td>\n",
       "      <td>1</td>\n",
       "      <td>0</td>\n",
       "      <td>1</td>\n",
       "      <td>1</td>\n",
       "      <td>0</td>\n",
       "      <td>1</td>\n",
       "      <td>0</td>\n",
       "      <td>0</td>\n",
       "    </tr>\n",
       "    <tr>\n",
       "      <th>2</th>\n",
       "      <td>1</td>\n",
       "      <td>0</td>\n",
       "      <td>0</td>\n",
       "      <td>0</td>\n",
       "      <td>1</td>\n",
       "      <td>1</td>\n",
       "      <td>1</td>\n",
       "      <td>0</td>\n",
       "      <td>0</td>\n",
       "      <td>0</td>\n",
       "      <td>0</td>\n",
       "      <td>0</td>\n",
       "      <td>0</td>\n",
       "      <td>0</td>\n",
       "      <td>0</td>\n",
       "      <td>0</td>\n",
       "      <td>0</td>\n",
       "      <td>0</td>\n",
       "      <td>0</td>\n",
       "    </tr>\n",
       "    <tr>\n",
       "      <th>3</th>\n",
       "      <td>1</td>\n",
       "      <td>0</td>\n",
       "      <td>0</td>\n",
       "      <td>1</td>\n",
       "      <td>1</td>\n",
       "      <td>1</td>\n",
       "      <td>1</td>\n",
       "      <td>1</td>\n",
       "      <td>0</td>\n",
       "      <td>0</td>\n",
       "      <td>0</td>\n",
       "      <td>1</td>\n",
       "      <td>0</td>\n",
       "      <td>0</td>\n",
       "      <td>0</td>\n",
       "      <td>0</td>\n",
       "      <td>1</td>\n",
       "      <td>0</td>\n",
       "      <td>0</td>\n",
       "    </tr>\n",
       "    <tr>\n",
       "      <th>4</th>\n",
       "      <td>1</td>\n",
       "      <td>0</td>\n",
       "      <td>0</td>\n",
       "      <td>0</td>\n",
       "      <td>1</td>\n",
       "      <td>1</td>\n",
       "      <td>1</td>\n",
       "      <td>0</td>\n",
       "      <td>0</td>\n",
       "      <td>0</td>\n",
       "      <td>0</td>\n",
       "      <td>0</td>\n",
       "      <td>0</td>\n",
       "      <td>0</td>\n",
       "      <td>0</td>\n",
       "      <td>1</td>\n",
       "      <td>1</td>\n",
       "      <td>0</td>\n",
       "      <td>0</td>\n",
       "    </tr>\n",
       "    <tr>\n",
       "      <th>...</th>\n",
       "      <td>...</td>\n",
       "      <td>...</td>\n",
       "      <td>...</td>\n",
       "      <td>...</td>\n",
       "      <td>...</td>\n",
       "      <td>...</td>\n",
       "      <td>...</td>\n",
       "      <td>...</td>\n",
       "      <td>...</td>\n",
       "      <td>...</td>\n",
       "      <td>...</td>\n",
       "      <td>...</td>\n",
       "      <td>...</td>\n",
       "      <td>...</td>\n",
       "      <td>...</td>\n",
       "      <td>...</td>\n",
       "      <td>...</td>\n",
       "      <td>...</td>\n",
       "      <td>...</td>\n",
       "    </tr>\n",
       "    <tr>\n",
       "      <th>1880</th>\n",
       "      <td>1</td>\n",
       "      <td>0</td>\n",
       "      <td>0</td>\n",
       "      <td>0</td>\n",
       "      <td>1</td>\n",
       "      <td>1</td>\n",
       "      <td>1</td>\n",
       "      <td>0</td>\n",
       "      <td>0</td>\n",
       "      <td>0</td>\n",
       "      <td>0</td>\n",
       "      <td>0</td>\n",
       "      <td>1</td>\n",
       "      <td>1</td>\n",
       "      <td>0</td>\n",
       "      <td>0</td>\n",
       "      <td>0</td>\n",
       "      <td>0</td>\n",
       "      <td>1</td>\n",
       "    </tr>\n",
       "    <tr>\n",
       "      <th>1881</th>\n",
       "      <td>1</td>\n",
       "      <td>0</td>\n",
       "      <td>0</td>\n",
       "      <td>0</td>\n",
       "      <td>1</td>\n",
       "      <td>1</td>\n",
       "      <td>1</td>\n",
       "      <td>0</td>\n",
       "      <td>0</td>\n",
       "      <td>1</td>\n",
       "      <td>0</td>\n",
       "      <td>0</td>\n",
       "      <td>1</td>\n",
       "      <td>1</td>\n",
       "      <td>1</td>\n",
       "      <td>1</td>\n",
       "      <td>1</td>\n",
       "      <td>0</td>\n",
       "      <td>0</td>\n",
       "    </tr>\n",
       "    <tr>\n",
       "      <th>1882</th>\n",
       "      <td>1</td>\n",
       "      <td>1</td>\n",
       "      <td>1</td>\n",
       "      <td>1</td>\n",
       "      <td>1</td>\n",
       "      <td>1</td>\n",
       "      <td>1</td>\n",
       "      <td>1</td>\n",
       "      <td>0</td>\n",
       "      <td>1</td>\n",
       "      <td>0</td>\n",
       "      <td>1</td>\n",
       "      <td>0</td>\n",
       "      <td>1</td>\n",
       "      <td>0</td>\n",
       "      <td>1</td>\n",
       "      <td>1</td>\n",
       "      <td>0</td>\n",
       "      <td>0</td>\n",
       "    </tr>\n",
       "    <tr>\n",
       "      <th>1883</th>\n",
       "      <td>1</td>\n",
       "      <td>0</td>\n",
       "      <td>0</td>\n",
       "      <td>0</td>\n",
       "      <td>1</td>\n",
       "      <td>1</td>\n",
       "      <td>1</td>\n",
       "      <td>0</td>\n",
       "      <td>0</td>\n",
       "      <td>1</td>\n",
       "      <td>0</td>\n",
       "      <td>0</td>\n",
       "      <td>1</td>\n",
       "      <td>1</td>\n",
       "      <td>0</td>\n",
       "      <td>1</td>\n",
       "      <td>1</td>\n",
       "      <td>0</td>\n",
       "      <td>0</td>\n",
       "    </tr>\n",
       "    <tr>\n",
       "      <th>1884</th>\n",
       "      <td>1</td>\n",
       "      <td>1</td>\n",
       "      <td>0</td>\n",
       "      <td>1</td>\n",
       "      <td>1</td>\n",
       "      <td>1</td>\n",
       "      <td>1</td>\n",
       "      <td>1</td>\n",
       "      <td>0</td>\n",
       "      <td>1</td>\n",
       "      <td>0</td>\n",
       "      <td>0</td>\n",
       "      <td>1</td>\n",
       "      <td>1</td>\n",
       "      <td>0</td>\n",
       "      <td>1</td>\n",
       "      <td>1</td>\n",
       "      <td>0</td>\n",
       "      <td>1</td>\n",
       "    </tr>\n",
       "  </tbody>\n",
       "</table>\n",
       "<p>1885 rows × 19 columns</p>\n",
       "</div>"
      ],
      "text/plain": [
       "     Alcohol Amphet Amyl Benzos Caff Cannabis Choc Coke Crack Ecstasy Heroin  \\\n",
       "0          1      1    0      1    1        0    1    0     0       0      0   \n",
       "1          1      1    1      0    1        1    1    1     0       1      0   \n",
       "2          1      0    0      0    1        1    1    0     0       0      0   \n",
       "3          1      0    0      1    1        1    1    1     0       0      0   \n",
       "4          1      0    0      0    1        1    1    0     0       0      0   \n",
       "...      ...    ...  ...    ...  ...      ...  ...  ...   ...     ...    ...   \n",
       "1880       1      0    0      0    1        1    1    0     0       0      0   \n",
       "1881       1      0    0      0    1        1    1    0     0       1      0   \n",
       "1882       1      1    1      1    1        1    1    1     0       1      0   \n",
       "1883       1      0    0      0    1        1    1    0     0       1      0   \n",
       "1884       1      1    0      1    1        1    1    1     0       1      0   \n",
       "\n",
       "     Ketamine Legalh LSD Meth Mushrooms Nicotine Semer VSA  \n",
       "0           0      0   0    0         0        1     0   0  \n",
       "1           1      0   1    1         0        1     0   0  \n",
       "2           0      0   0    0         0        0     0   0  \n",
       "3           1      0   0    0         0        1     0   0  \n",
       "4           0      0   0    0         1        1     0   0  \n",
       "...       ...    ...  ..  ...       ...      ...   ...  ..  \n",
       "1880        0      1   1    0         0        0     0   1  \n",
       "1881        0      1   1    1         1        1     0   0  \n",
       "1882        1      0   1    0         1        1     0   0  \n",
       "1883        0      1   1    0         1        1     0   0  \n",
       "1884        0      1   1    0         1        1     0   1  \n",
       "\n",
       "[1885 rows x 19 columns]"
      ]
     },
     "execution_count": 5,
     "metadata": {},
     "output_type": "execute_result"
    }
   ],
   "source": [
    "# encode the labels\n",
    "# 0: CL0 and CL1 (Non user)\n",
    "# 1: other classes (User)\n",
    "\n",
    "labels = data.iloc[:,13:]\n",
    "labels[(labels == 'CL0') | (labels == 'CL1')] = 0\n",
    "labels[labels != 0] = 1\n",
    "labels"
   ]
  },
  {
   "cell_type": "code",
   "execution_count": 6,
   "metadata": {
    "canvas": {
     "comments": [],
     "componentType": "CodeCell",
     "copiedOriginId": null,
     "diskcache": false,
     "headerColor": "none",
     "id": "4460c933-62d8-44cb-95c3-f049b25a52b0",
     "isComponent": false,
     "name": "",
     "parents": []
    }
   },
   "outputs": [
    {
     "name": "stdout",
     "output_type": "stream",
     "text": [
      "Training Feature Shape: (1262, 12)\n",
      "Testing Feature Shape: (623, 12)\n"
     ]
    }
   ],
   "source": [
    "X_train, X_test, y_train, y_test = train_test_split(features, labels, test_size=0.33, random_state=42) # fix the random state for generating same split\n",
    "print(\"Training Feature Shape:\", X_train.shape)\n",
    "print(\"Testing Feature Shape:\", X_test.shape)"
   ]
  },
  {
   "cell_type": "markdown",
   "metadata": {
    "canvas": {
     "comments": [],
     "componentType": "CodeCell",
     "copiedOriginId": null,
     "diskcache": false,
     "headerColor": "inherit",
     "id": "1d2a9e55-25c7-437e-860f-2afe4ea4b693",
     "isComponent": false,
     "name": "",
     "parents": []
    }
   },
   "source": [
    "### Training Function\n",
    "\n",
    "- use 5-fold random search to draw 60 combinations from the pre-defined hyperparameters\n",
    "- Return the best estimator in random search"
   ]
  },
  {
   "cell_type": "code",
   "execution_count": 7,
   "metadata": {
    "canvas": {
     "comments": [],
     "componentType": "CodeCell",
     "copiedOriginId": null,
     "diskcache": false,
     "headerColor": "none",
     "id": "ad1b1835-d55a-4e90-a88e-9fbe4ca016e4",
     "isComponent": false,
     "name": "",
     "parents": []
    }
   },
   "outputs": [],
   "source": [
    "def train(X_train, y_train, model, model_params):\n",
    "\n",
    "    start = time.time()\n",
    "    # 5-fold CV random search to find the best hyper-parameters\n",
    "    clf = RandomizedSearchCV(model, model_params, n_iter=60, random_state=42, cv=5, scoring=\"roc_auc\")\n",
    "    search = clf.fit(X_train, y_train)\n",
    "    print(\"Best AUC Score for 5-fold:\", search.best_score_)\n",
    "    print(\"Spent time:\", time.time()-start)\n",
    "    print()\n",
    "    \n",
    "    return search.best_estimator_"
   ]
  },
  {
   "cell_type": "markdown",
   "metadata": {
    "canvas": {
     "comments": [],
     "componentType": "CodeCell",
     "copiedOriginId": null,
     "diskcache": false,
     "headerColor": "inherit",
     "id": "2ce04d67-0672-4504-9945-0d947a41c0f3",
     "isComponent": false,
     "name": "",
     "parents": []
    }
   },
   "source": [
    "### Testing Function\n",
    "\n",
    "- print out the precision and recall score\n",
    "- Plot confusion matrix for a model's predictions\n",
    "- use the plot_roc_curve in sklearn to plot a roc curve"
   ]
  },
  {
   "cell_type": "code",
   "execution_count": 8,
   "metadata": {
    "canvas": {
     "comments": [],
     "componentType": "CodeCell",
     "copiedOriginId": null,
     "diskcache": false,
     "headerColor": "none",
     "id": "eeb6bf60-26eb-4670-9e63-862a3b2e68d1",
     "isComponent": false,
     "name": "",
     "parents": []
    }
   },
   "outputs": [],
   "source": [
    "def test(X_test, y_test, model):\n",
    "    y_pred = model.predict(X_test)\n",
    "    print(\"Precision:\", precision_score(y_test, y_pred))\n",
    "    print(\"Recall:\", recall_score(y_test, y_pred))\n",
    "\n",
    "    cm = confusion_matrix(y_test, y_pred, labels=[0, 1])\n",
    "    ConfusionMatrixDisplay(confusion_matrix=cm, display_labels=['Non-User', 'User']).plot()\n",
    "    plt.title('Confusion matrix')\n",
    "    plt.show()\n",
    "    \n",
    "    \n",
    "    plot_roc_curve(model, X_test, y_test) \n",
    "\n",
    "    plt.title('ROC Curve')\n",
    "    plt.legend()\n",
    "    plt.show()"
   ]
  },
  {
   "cell_type": "markdown",
   "metadata": {
    "canvas": {
     "comments": [],
     "componentType": "CodeCell",
     "copiedOriginId": null,
     "diskcache": false,
     "headerColor": "none",
     "id": "47543625-9016-48ba-9c8f-0a372873d9b1",
     "isComponent": false,
     "name": "",
     "parents": []
    }
   },
   "source": [
    "### Label 1: Legalh\n",
    "\n",
    "- Classifier: Decision Tree\n",
    "- Selected features: 'Age', 'Oscore', 'Ascore', 'Cscore', 'SS'"
   ]
  },
  {
   "cell_type": "code",
   "execution_count": 9,
   "metadata": {
    "canvas": {
     "comments": [],
     "componentType": "CodeCell",
     "copiedOriginId": null,
     "diskcache": false,
     "headerColor": "inherit",
     "id": "7cf3803c-05c3-4e3f-93cd-b62802e9988b",
     "isComponent": false,
     "name": "",
     "parents": []
    }
   },
   "outputs": [],
   "source": [
    "features = ['Age', 'Oscore', 'Ascore', 'Cscore', 'SS']\n",
    "Legalh_feature_train, Legalh_feature_test   = X_train[features], X_test[features]"
   ]
  },
  {
   "cell_type": "code",
   "execution_count": 10,
   "metadata": {
    "canvas": {
     "comments": [],
     "componentType": "CodeCell",
     "copiedOriginId": null,
     "diskcache": false,
     "headerColor": "none",
     "id": "5acfc90a-96b5-4382-b5d9-4009b7c57b09",
     "isComponent": false,
     "name": "",
     "parents": []
    }
   },
   "outputs": [],
   "source": [
    "Legalh_label_train, Legalh_label_test = y_train['Legalh'].astype('int'), y_test['Legalh'].astype('int')"
   ]
  },
  {
   "cell_type": "code",
   "execution_count": 11,
   "metadata": {
    "canvas": {
     "comments": [],
     "componentType": "CodeCell",
     "copiedOriginId": null,
     "diskcache": false,
     "headerColor": "none",
     "id": "c2e951e5-5c09-4d91-8b9c-912f3393529a",
     "isComponent": false,
     "name": "",
     "parents": []
    }
   },
   "outputs": [
    {
     "name": "stdout",
     "output_type": "stream",
     "text": [
      "Number of class 0 in train: 773\n",
      "Number of class 1 in train: 489\n",
      "Number of class 0 in test: 350\n",
      "Number of class 1 in test: 273\n"
     ]
    }
   ],
   "source": [
    "print(\"Number of class 0 in train:\", len(Legalh_label_train[Legalh_label_train==0]))\n",
    "print(\"Number of class 1 in train:\", len(Legalh_label_train[Legalh_label_train==1]))\n",
    "print(\"Number of class 0 in test:\", len(Legalh_label_test[Legalh_label_test==0]))\n",
    "print(\"Number of class 1 in test:\", len(Legalh_label_test[Legalh_label_test==1]))"
   ]
  },
  {
   "cell_type": "code",
   "execution_count": 12,
   "metadata": {
    "canvas": {
     "comments": [],
     "componentType": "CodeCell",
     "copiedOriginId": null,
     "diskcache": false,
     "headerColor": "none",
     "id": "64c82aba-8f56-4134-ab76-0ff74bf9dd28",
     "isComponent": false,
     "name": "",
     "parents": []
    }
   },
   "outputs": [
    {
     "name": "stdout",
     "output_type": "stream",
     "text": [
      "Best AUC Score for 5-fold: 0.7181175838407265\n",
      "Spent time: 1.6301581859588623\n",
      "\n"
     ]
    }
   ],
   "source": [
    "# parameters for decision tree\n",
    "param_distributions_df = {\n",
    "    \"max_depth\": range(20, 100, 2),\n",
    "    \"min_samples_split\": range(2, 10),\n",
    "}\n",
    "\n",
    "clf = DecisionTreeClassifier(random_state=0)\n",
    "\n",
    "# training\n",
    "\n",
    "Legalh_model = train(Legalh_feature_train, Legalh_label_train, clf, param_distributions_df)"
   ]
  },
  {
   "cell_type": "code",
   "execution_count": 13,
   "metadata": {
    "canvas": {
     "comments": [],
     "componentType": "CodeCell",
     "copiedOriginId": null,
     "diskcache": false,
     "headerColor": "none",
     "id": "47625554-73dd-4d0c-9ae4-b62bdf00e7a9",
     "isComponent": false,
     "name": "",
     "parents": []
    }
   },
   "outputs": [
    {
     "name": "stdout",
     "output_type": "stream",
     "text": [
      "Precision: 0.7117117117117117\n",
      "Recall: 0.5787545787545788\n"
     ]
    },
    {
     "data": {
      "image/png": "[encoded data removed]",
      "text/plain": [
       "<Figure size 432x288 with 2 Axes>"
      ]
     },
     "metadata": {
      "needs_background": "light"
     },
     "output_type": "display_data"
    },
    {
     "name": "stderr",
     "output_type": "stream",
     "text": [
      "/opt/anaconda3/lib/python3.7/site-packages/sklearn/utils/deprecation.py:87: FutureWarning: Function plot_roc_curve is deprecated; Function `plot_roc_curve` is deprecated in 1.0 and will be removed in 1.2. Use one of the class methods: RocCurveDisplay.from_predictions or RocCurveDisplay.from_estimator.\n",
      "  warnings.warn(msg, category=FutureWarning)\n"
     ]
    },
    {
     "data": {
      "image/png": "[encoded data removed]",
      "text/plain": [
       "<Figure size 432x288 with 1 Axes>"
      ]
     },
     "metadata": {
      "needs_background": "light"
     },
     "output_type": "display_data"
    }
   ],
   "source": [
    "# testing\n",
    "test(Legalh_feature_test, Legalh_label_test, Legalh_model)"
   ]
  },
  {
   "cell_type": "markdown",
   "metadata": {
    "canvas": {
     "comments": [],
     "componentType": "CodeCell",
     "copiedOriginId": null,
     "diskcache": false,
     "headerColor": "inherit",
     "id": "d28f3472-b49f-43fc-8f4f-bd2bef637261",
     "isComponent": false,
     "name": "",
     "parents": []
    }
   },
   "source": [
    "### Label 2: Ecstasy\n",
    "\n",
    "- Classifier: Decision Tree\n",
    "- Selected features: 'Age', 'Gender', 'SS'"
   ]
  },
  {
   "cell_type": "code",
   "execution_count": 14,
   "metadata": {
    "canvas": {
     "comments": [],
     "componentType": "CodeCell",
     "copiedOriginId": null,
     "diskcache": false,
     "headerColor": "inherit",
     "id": "2dc389f0-4154-418e-b376-c1bc0814fdb2",
     "isComponent": false,
     "name": "",
     "parents": []
    }
   },
   "outputs": [],
   "source": [
    "features = ['Age', 'Gender', 'SS']\n",
    "Ecstasy_feature_train, Ecstasy_feature_test   = X_train[features], X_test[features]"
   ]
  },
  {
   "cell_type": "code",
   "execution_count": 15,
   "metadata": {
    "canvas": {
     "comments": [],
     "componentType": "CodeCell",
     "copiedOriginId": null,
     "diskcache": false,
     "headerColor": "inherit",
     "id": "378a0a15-fbca-4790-b6e3-8301e5c92652",
     "isComponent": false,
     "name": "",
     "parents": []
    }
   },
   "outputs": [],
   "source": [
    "Ecstasy_label_train, Ecstasy_label_test = y_train['Ecstasy'].astype('int'), y_test['Ecstasy'].astype('int')"
   ]
  },
  {
   "cell_type": "code",
   "execution_count": 16,
   "metadata": {
    "canvas": {
     "comments": [],
     "componentType": "CodeCell",
     "copiedOriginId": null,
     "diskcache": false,
     "headerColor": "inherit",
     "id": "af580c19-294e-49f4-b6c9-08b67eec999f",
     "isComponent": false,
     "name": "",
     "parents": []
    }
   },
   "outputs": [
    {
     "name": "stdout",
     "output_type": "stream",
     "text": [
      "Number of class 0 in train: 763\n",
      "Number of class 1 in train: 499\n",
      "Number of class 0 in test: 371\n",
      "Number of class 1 in test: 252\n"
     ]
    }
   ],
   "source": [
    "print(\"Number of class 0 in train:\", len(Ecstasy_label_train[Ecstasy_label_train==0]))\n",
    "print(\"Number of class 1 in train:\", len(Ecstasy_label_train[Ecstasy_label_train==1]))\n",
    "print(\"Number of class 0 in test:\", len(Ecstasy_label_test[Ecstasy_label_test==0]))\n",
    "print(\"Number of class 1 in test:\", len(Ecstasy_label_test[Ecstasy_label_test==1]))"
   ]
  },
  {
   "cell_type": "code",
   "execution_count": 17,
   "metadata": {
    "canvas": {
     "comments": [],
     "componentType": "CodeCell",
     "copiedOriginId": null,
     "diskcache": false,
     "headerColor": "inherit",
     "id": "0a87fed0-b790-4bbf-a7ca-22705fc73aeb",
     "isComponent": false,
     "name": "",
     "parents": []
    }
   },
   "outputs": [
    {
     "name": "stdout",
     "output_type": "stream",
     "text": [
      "Best AUC Score for 5-fold: 0.7865166816948294\n",
      "Spent time: 1.22658109664917\n",
      "\n"
     ]
    }
   ],
   "source": [
    "# parameters for decision tree\n",
    "param_distributions_df = {\n",
    "    \"max_depth\": range(20, 100, 2),\n",
    "    \"min_samples_split\": range(2, 10),\n",
    "}\n",
    "\n",
    "clf = DecisionTreeClassifier()\n",
    "\n",
    "# training\n",
    "\n",
    "Ecstasy_model = train(Ecstasy_feature_train, Ecstasy_label_train, clf, param_distributions_df)"
   ]
  },
  {
   "cell_type": "code",
   "execution_count": 18,
   "metadata": {
    "canvas": {
     "comments": [],
     "componentType": "CodeCell",
     "copiedOriginId": null,
     "diskcache": false,
     "headerColor": "inherit",
     "id": "4fc771cc-1b01-44d8-999d-8007759eabcf",
     "isComponent": false,
     "name": "",
     "parents": []
    }
   },
   "outputs": [
    {
     "name": "stdout",
     "output_type": "stream",
     "text": [
      "Precision: 0.6217228464419475\n",
      "Recall: 0.6587301587301587\n"
     ]
    },
    {
     "data": {
      "image/png": "[encoded data removed]",
      "text/plain": [
       "<Figure size 432x288 with 2 Axes>"
      ]
     },
     "metadata": {
      "needs_background": "light"
     },
     "output_type": "display_data"
    },
    {
     "name": "stderr",
     "output_type": "stream",
     "text": [
      "/opt/anaconda3/lib/python3.7/site-packages/sklearn/utils/deprecation.py:87: FutureWarning: Function plot_roc_curve is deprecated; Function `plot_roc_curve` is deprecated in 1.0 and will be removed in 1.2. Use one of the class methods: RocCurveDisplay.from_predictions or RocCurveDisplay.from_estimator.\n",
      "  warnings.warn(msg, category=FutureWarning)\n"
     ]
    },
    {
     "data": {
      "image/png": "[encoded data removed]",
      "text/plain": [
       "<Figure size 432x288 with 1 Axes>"
      ]
     },
     "metadata": {
      "needs_background": "light"
     },
     "output_type": "display_data"
    }
   ],
   "source": [
    "test(Ecstasy_feature_test, Ecstasy_label_test, Ecstasy_model)"
   ]
  },
  {
   "cell_type": "markdown",
   "metadata": {
    "canvas": {
     "comments": [],
     "componentType": "CodeCell",
     "copiedOriginId": null,
     "diskcache": false,
     "headerColor": "inherit",
     "id": "cce6fbf5-dd58-4793-818f-9f7ddef4574b",
     "isComponent": false,
     "name": "",
     "parents": []
    }
   },
   "source": [
    "### Label 3: Cannabis\n",
    "\n",
    "- Classifier: Decision Tree\n",
    "- Selected features: 'Age', 'Education', 'Oscore', 'Ascore', 'Cscore', 'Impulsive'"
   ]
  },
  {
   "cell_type": "code",
   "execution_count": 19,
   "metadata": {
    "canvas": {
     "comments": [],
     "componentType": "CodeCell",
     "copiedOriginId": null,
     "diskcache": false,
     "headerColor": "inherit",
     "id": "c84666da-cbc3-4e4e-853a-9feee91f2444",
     "isComponent": false,
     "name": "",
     "parents": []
    }
   },
   "outputs": [],
   "source": [
    "features = ['Age', 'Education', 'Oscore', 'Ascore', 'Cscore', 'Impulsive']\n",
    "Cannabis_feature_train, Cannabis_feature_test   = X_train[features], X_test[features]"
   ]
  },
  {
   "cell_type": "code",
   "execution_count": 20,
   "metadata": {
    "canvas": {
     "comments": [],
     "componentType": "CodeCell",
     "copiedOriginId": null,
     "diskcache": false,
     "headerColor": "inherit",
     "id": "07736f2d-9aa8-44d9-9fd8-ec3e5ab22d5b",
     "isComponent": false,
     "name": "",
     "parents": []
    }
   },
   "outputs": [],
   "source": [
    "Cannabis_label_train, Cannabis_label_test = y_train['Cannabis'].astype('int'), y_test['Cannabis'].astype('int')"
   ]
  },
  {
   "cell_type": "code",
   "execution_count": 21,
   "metadata": {
    "canvas": {
     "comments": [],
     "componentType": "CodeCell",
     "copiedOriginId": null,
     "diskcache": false,
     "headerColor": "inherit",
     "id": "b5c4edef-89e4-47e8-84a2-c5015fc40abd",
     "isComponent": false,
     "name": "",
     "parents": []
    }
   },
   "outputs": [
    {
     "name": "stdout",
     "output_type": "stream",
     "text": [
      "Number of class 0 in train: 432\n",
      "Number of class 1 in train: 830\n",
      "Number of class 0 in test: 188\n",
      "Number of class 1 in test: 435\n"
     ]
    }
   ],
   "source": [
    "print(\"Number of class 0 in train:\", len(Cannabis_label_train[Cannabis_label_train==0]))\n",
    "print(\"Number of class 1 in train:\", len(Cannabis_label_train[Cannabis_label_train==1]))\n",
    "print(\"Number of class 0 in test:\", len(Cannabis_label_test[Cannabis_label_test==0]))\n",
    "print(\"Number of class 1 in test:\", len(Cannabis_label_test[Cannabis_label_test==1]))"
   ]
  },
  {
   "cell_type": "code",
   "execution_count": 22,
   "metadata": {
    "canvas": {
     "comments": [],
     "componentType": "CodeCell",
     "copiedOriginId": null,
     "diskcache": false,
     "headerColor": "inherit",
     "id": "ccf428db-07a2-43a4-b569-b6cb2e34cf0d",
     "isComponent": false,
     "name": "",
     "parents": []
    }
   },
   "outputs": [
    {
     "name": "stdout",
     "output_type": "stream",
     "text": [
      "Best AUC Score for 5-fold: 0.7463159776234046\n",
      "Spent time: 1.5912840366363525\n",
      "\n"
     ]
    }
   ],
   "source": [
    "# parameters for decision tree\n",
    "param_distributions_df = {\n",
    "    \"max_depth\": range(20, 100, 2),\n",
    "    \"min_samples_split\": range(2, 10),\n",
    "}\n",
    "\n",
    "clf = DecisionTreeClassifier()\n",
    "\n",
    "# training\n",
    "\n",
    "Cannabis_model = train(Cannabis_feature_train, Cannabis_label_train, clf, param_distributions_df)"
   ]
  },
  {
   "cell_type": "code",
   "execution_count": 23,
   "metadata": {
    "canvas": {
     "comments": [],
     "componentType": "CodeCell",
     "copiedOriginId": null,
     "diskcache": false,
     "headerColor": "inherit",
     "id": "010352a8-acf5-409b-8168-aab6db28de64",
     "isComponent": false,
     "name": "",
     "parents": []
    }
   },
   "outputs": [
    {
     "name": "stdout",
     "output_type": "stream",
     "text": [
      "Precision: 0.8071428571428572\n",
      "Recall: 0.7793103448275862\n"
     ]
    },
    {
     "data": {
      "image/png": "[encoded data removed]",
      "text/plain": [
       "<Figure size 432x288 with 2 Axes>"
      ]
     },
     "metadata": {
      "needs_background": "light"
     },
     "output_type": "display_data"
    },
    {
     "name": "stderr",
     "output_type": "stream",
     "text": [
      "/opt/anaconda3/lib/python3.7/site-packages/sklearn/utils/deprecation.py:87: FutureWarning: Function plot_roc_curve is deprecated; Function `plot_roc_curve` is deprecated in 1.0 and will be removed in 1.2. Use one of the class methods: RocCurveDisplay.from_predictions or RocCurveDisplay.from_estimator.\n",
      "  warnings.warn(msg, category=FutureWarning)\n"
     ]
    },
    {
     "data": {
      "image/png": "[encoded data removed]",
      "text/plain": [
       "<Figure size 432x288 with 1 Axes>"
      ]
     },
     "metadata": {
      "needs_background": "light"
     },
     "output_type": "display_data"
    }
   ],
   "source": [
    "test(Cannabis_feature_test, Cannabis_label_test, Cannabis_model)"
   ]
  },
  {
   "cell_type": "markdown",
   "metadata": {
    "canvas": {
     "comments": [],
     "componentType": "CodeCell",
     "copiedOriginId": null,
     "diskcache": false,
     "headerColor": "inherit",
     "id": "6f41047e-50b7-4075-8a33-742fcf77e865",
     "isComponent": false,
     "name": "",
     "parents": []
    }
   },
   "source": [
    "### Label 4: Nicotine\n",
    "\n",
    "- Classifier: Decision Tree\n",
    "- Selected features: 'Nscore', 'Escore', 'Cscore', 'Gender'"
   ]
  },
  {
   "cell_type": "code",
   "execution_count": 24,
   "metadata": {
    "canvas": {
     "comments": [],
     "componentType": "CodeCell",
     "copiedOriginId": null,
     "diskcache": false,
     "headerColor": "inherit",
     "id": "e4589729-7702-40df-b768-5f4a0d5785ce",
     "isComponent": false,
     "name": "",
     "parents": []
    }
   },
   "outputs": [],
   "source": [
    "features = ['Nscore', 'Escore', 'Cscore', 'Gender']\n",
    "Nicotine_feature_train, Nicotine_feature_test   = X_train[features], X_test[features]"
   ]
  },
  {
   "cell_type": "code",
   "execution_count": 25,
   "metadata": {
    "canvas": {
     "comments": [],
     "componentType": "CodeCell",
     "copiedOriginId": null,
     "diskcache": false,
     "headerColor": "inherit",
     "id": "e7a62406-fe78-4806-b2e9-5bde1cd21bb3",
     "isComponent": false,
     "name": "",
     "parents": []
    }
   },
   "outputs": [],
   "source": [
    "Nicotine_label_train, Nicotine_label_test = y_train['Nicotine'].astype('int'), y_test['Nicotine'].astype('int')"
   ]
  },
  {
   "cell_type": "code",
   "execution_count": 26,
   "metadata": {
    "canvas": {
     "comments": [],
     "componentType": "CodeCell",
     "copiedOriginId": null,
     "diskcache": false,
     "headerColor": "inherit",
     "id": "f115327a-2778-4fd7-9ea4-347ae123f9a9",
     "isComponent": false,
     "name": "",
     "parents": []
    }
   },
   "outputs": [
    {
     "name": "stdout",
     "output_type": "stream",
     "text": [
      "Number of class 0 in train: 412\n",
      "Number of class 1 in train: 850\n",
      "Number of class 0 in test: 209\n",
      "Number of class 1 in test: 414\n"
     ]
    }
   ],
   "source": [
    "print(\"Number of class 0 in train:\", len(Nicotine_label_train[Nicotine_label_train==0]))\n",
    "print(\"Number of class 1 in train:\", len(Nicotine_label_train[Nicotine_label_train==1]))\n",
    "print(\"Number of class 0 in test:\", len(Nicotine_label_test[Nicotine_label_test==0]))\n",
    "print(\"Number of class 1 in test:\", len(Nicotine_label_test[Nicotine_label_test==1]))"
   ]
  },
  {
   "cell_type": "code",
   "execution_count": 27,
   "metadata": {
    "canvas": {
     "comments": [],
     "componentType": "CodeCell",
     "copiedOriginId": null,
     "diskcache": false,
     "headerColor": "inherit",
     "id": "14908c88-ec42-4511-b839-de68cfe88861",
     "isComponent": false,
     "name": "",
     "parents": []
    }
   },
   "outputs": [
    {
     "name": "stdout",
     "output_type": "stream",
     "text": [
      "Best AUC Score for 5-fold: 0.5895013915057647\n",
      "Spent time: 1.5085148811340332\n",
      "\n"
     ]
    }
   ],
   "source": [
    "# parameters for decision tree\n",
    "param_distributions_df = {\n",
    "    \"max_depth\": range(20, 100, 2),\n",
    "    \"min_samples_split\": range(2, 10),\n",
    "}\n",
    "\n",
    "clf = DecisionTreeClassifier()\n",
    "\n",
    "# training\n",
    "\n",
    "Nicotine_model = train(Nicotine_feature_train, Nicotine_label_train, clf, param_distributions_df)"
   ]
  },
  {
   "cell_type": "code",
   "execution_count": 28,
   "metadata": {
    "canvas": {
     "comments": [],
     "componentType": "CodeCell",
     "copiedOriginId": null,
     "diskcache": false,
     "headerColor": "inherit",
     "id": "5d9483fc-6c34-42cf-a37d-d7e895d92d0b",
     "isComponent": false,
     "name": "",
     "parents": []
    }
   },
   "outputs": [
    {
     "name": "stdout",
     "output_type": "stream",
     "text": [
      "Precision: 0.7060240963855422\n",
      "Recall: 0.7077294685990339\n"
     ]
    },
    {
     "data": {
      "image/png": "[encoded data removed]",
      "text/plain": [
       "<Figure size 432x288 with 2 Axes>"
      ]
     },
     "metadata": {
      "needs_background": "light"
     },
     "output_type": "display_data"
    },
    {
     "name": "stderr",
     "output_type": "stream",
     "text": [
      "/opt/anaconda3/lib/python3.7/site-packages/sklearn/utils/deprecation.py:87: FutureWarning: Function plot_roc_curve is deprecated; Function `plot_roc_curve` is deprecated in 1.0 and will be removed in 1.2. Use one of the class methods: RocCurveDisplay.from_predictions or RocCurveDisplay.from_estimator.\n",
      "  warnings.warn(msg, category=FutureWarning)\n"
     ]
    },
    {
     "data": {
      "image/png": "[encoded data removed]",
      "text/plain": [
       "<Figure size 432x288 with 1 Axes>"
      ]
     },
     "metadata": {
      "needs_background": "light"
     },
     "output_type": "display_data"
    }
   ],
   "source": [
    "test(Nicotine_feature_test, Nicotine_label_test, Nicotine_model)"
   ]
  },
  {
   "cell_type": "markdown",
   "metadata": {
    "canvas": {
     "comments": [],
     "componentType": "CodeCell",
     "copiedOriginId": null,
     "diskcache": false,
     "headerColor": "inherit",
     "id": "535384e7-5b5a-4e53-9108-aec0ec06c27c",
     "isComponent": false,
     "name": "",
     "parents": []
    }
   },
   "source": [
    "### Label 5: Caff\n",
    "\n",
    "- Classifier: KNN\n",
    "- Selected features: 'Age', 'Education', 'Oscore', 'Ascore', 'Impulsive'"
   ]
  },
  {
   "cell_type": "code",
   "execution_count": 29,
   "metadata": {
    "canvas": {
     "comments": [],
     "componentType": "CodeCell",
     "copiedOriginId": null,
     "diskcache": false,
     "headerColor": "inherit",
     "id": "0f864fba-38dc-4b9d-bcc3-dd5bda478f70",
     "isComponent": false,
     "name": "",
     "parents": []
    }
   },
   "outputs": [],
   "source": [
    "features = ['Age', 'Education', 'Oscore', 'Ascore', 'Impulsive']\n",
    "Caff_feature_train, Caff_feature_test   = X_train[features], X_test[features]"
   ]
  },
  {
   "cell_type": "code",
   "execution_count": 30,
   "metadata": {
    "canvas": {
     "comments": [],
     "componentType": "CodeCell",
     "copiedOriginId": null,
     "diskcache": false,
     "headerColor": "inherit",
     "id": "67019536-f975-4570-b308-2903ef02656e",
     "isComponent": false,
     "name": "",
     "parents": []
    }
   },
   "outputs": [],
   "source": [
    "Caff_label_train, Caff_label_test = y_train['Caff'].astype('int'), y_test['Caff'].astype('int')"
   ]
  },
  {
   "cell_type": "code",
   "execution_count": 31,
   "metadata": {
    "canvas": {
     "comments": [],
     "componentType": "CodeCell",
     "copiedOriginId": null,
     "diskcache": false,
     "headerColor": "inherit",
     "id": "424440f3-ea84-4460-979b-fbf824578e16",
     "isComponent": false,
     "name": "",
     "parents": []
    }
   },
   "outputs": [
    {
     "name": "stdout",
     "output_type": "stream",
     "text": [
      "Number of class 0 in train: 26\n",
      "Number of class 1 in train: 1236\n",
      "Number of class 0 in test: 11\n",
      "Number of class 1 in test: 612\n"
     ]
    }
   ],
   "source": [
    "print(\"Number of class 0 in train:\", len(Caff_label_train[Caff_label_train==0]))\n",
    "print(\"Number of class 1 in train:\", len(Caff_label_train[Caff_label_train==1]))\n",
    "print(\"Number of class 0 in test:\", len(Caff_label_test[Caff_label_test==0]))\n",
    "print(\"Number of class 1 in test:\", len(Caff_label_test[Caff_label_test==1]))"
   ]
  },
  {
   "cell_type": "code",
   "execution_count": 32,
   "metadata": {
    "canvas": {
     "comments": [],
     "componentType": "CodeCell",
     "copiedOriginId": null,
     "diskcache": false,
     "headerColor": "inherit",
     "id": "27bc8ef2-80a0-416d-8350-2230e86b39e0",
     "isComponent": false,
     "name": "",
     "parents": []
    }
   },
   "outputs": [
    {
     "name": "stderr",
     "output_type": "stream",
     "text": [
      "/opt/anaconda3/lib/python3.7/site-packages/sklearn/model_selection/_search.py:296: UserWarning: The total space of parameters 27 is smaller than n_iter=60. Running 27 iterations. For exhaustive searches, use GridSearchCV.\n",
      "  UserWarning,\n"
     ]
    },
    {
     "name": "stdout",
     "output_type": "stream",
     "text": [
      "Best AUC Score for 5-fold: 0.6551375647555614\n",
      "Spent time: 0.9266257286071777\n",
      "\n"
     ]
    }
   ],
   "source": [
    "# parameters for knn\n",
    "param_distributions_knn = {\n",
    "    \"n_neighbors\": range(3, 30),\n",
    "}\n",
    "\n",
    "clf = KNeighborsClassifier()\n",
    "\n",
    "# training\n",
    "Caff_model = train(Caff_feature_train, Caff_label_train, clf, param_distributions_knn)"
   ]
  },
  {
   "cell_type": "code",
   "execution_count": 33,
   "metadata": {
    "canvas": {
     "comments": [],
     "componentType": "CodeCell",
     "copiedOriginId": null,
     "diskcache": false,
     "headerColor": "inherit",
     "id": "253fd9e0-f8fc-408c-8924-e96aee94e054",
     "isComponent": false,
     "name": "",
     "parents": []
    }
   },
   "outputs": [
    {
     "name": "stdout",
     "output_type": "stream",
     "text": [
      "Precision: 0.9823434991974318\n",
      "Recall: 1.0\n"
     ]
    },
    {
     "data": {
      "image/png": "[encoded data removed]",
      "text/plain": [
       "<Figure size 432x288 with 2 Axes>"
      ]
     },
     "metadata": {
      "needs_background": "light"
     },
     "output_type": "display_data"
    },
    {
     "name": "stderr",
     "output_type": "stream",
     "text": [
      "/opt/anaconda3/lib/python3.7/site-packages/sklearn/utils/deprecation.py:87: FutureWarning: Function plot_roc_curve is deprecated; Function `plot_roc_curve` is deprecated in 1.0 and will be removed in 1.2. Use one of the class methods: RocCurveDisplay.from_predictions or RocCurveDisplay.from_estimator.\n",
      "  warnings.warn(msg, category=FutureWarning)\n"
     ]
    },
    {
     "data": {
      "image/png": "[encoded data removed]",
      "text/plain": [
       "<Figure size 432x288 with 1 Axes>"
      ]
     },
     "metadata": {
      "needs_background": "light"
     },
     "output_type": "display_data"
    }
   ],
   "source": [
    "test(Caff_feature_test, Caff_label_test, Caff_model)"
   ]
  },
  {
   "cell_type": "markdown",
   "metadata": {
    "canvas": {
     "comments": [],
     "componentType": "CodeCell",
     "copiedOriginId": null,
     "diskcache": false,
     "headerColor": "inherit",
     "id": "e0accf29-575b-4a25-978c-5708e038e754",
     "isComponent": false,
     "name": "",
     "parents": []
    }
   },
   "source": [
    "### Label 6: LSD\n",
    "\n",
    "- Classifier: KNN\n",
    "- Selected features: 'Age', 'Nscore', 'Escore', 'Oscore', 'Impulsive', 'Gender'"
   ]
  },
  {
   "cell_type": "code",
   "execution_count": 34,
   "metadata": {
    "canvas": {
     "comments": [],
     "componentType": "CodeCell",
     "copiedOriginId": null,
     "diskcache": false,
     "headerColor": "inherit",
     "id": "c7738ec9-badd-411e-b4f7-d17b703b5829",
     "isComponent": false,
     "name": "",
     "parents": []
    }
   },
   "outputs": [],
   "source": [
    "features = ['Age', 'Nscore', 'Escore', 'Oscore', 'Impulsive', 'Gender']\n",
    "LSD_feature_train, LSD_feature_test   = X_train[features], X_test[features]"
   ]
  },
  {
   "cell_type": "code",
   "execution_count": 35,
   "metadata": {
    "canvas": {
     "comments": [],
     "componentType": "CodeCell",
     "copiedOriginId": null,
     "diskcache": false,
     "headerColor": "inherit",
     "id": "414f7c5a-b7d5-4885-a810-efd4abcdd47a",
     "isComponent": false,
     "name": "",
     "parents": []
    }
   },
   "outputs": [],
   "source": [
    "LSD_label_train, LSD_label_test = y_train['LSD'].astype('int'), y_test['LSD'].astype('int')"
   ]
  },
  {
   "cell_type": "code",
   "execution_count": 36,
   "metadata": {
    "canvas": {
     "comments": [],
     "componentType": "CodeCell",
     "copiedOriginId": null,
     "diskcache": false,
     "headerColor": "inherit",
     "id": "a5c877e5-cda9-449c-a6a2-71e9c31bd75c",
     "isComponent": false,
     "name": "",
     "parents": []
    }
   },
   "outputs": [
    {
     "name": "stdout",
     "output_type": "stream",
     "text": [
      "Number of class 0 in train: 895\n",
      "Number of class 1 in train: 367\n",
      "Number of class 0 in test: 433\n",
      "Number of class 1 in test: 190\n"
     ]
    }
   ],
   "source": [
    "print(\"Number of class 0 in train:\", len(LSD_label_train[LSD_label_train==0]))\n",
    "print(\"Number of class 1 in train:\", len(LSD_label_train[LSD_label_train==1]))\n",
    "print(\"Number of class 0 in test:\", len(LSD_label_test[LSD_label_test==0]))\n",
    "print(\"Number of class 1 in test:\", len(LSD_label_test[LSD_label_test==1]))"
   ]
  },
  {
   "cell_type": "code",
   "execution_count": 37,
   "metadata": {
    "canvas": {
     "comments": [],
     "componentType": "CodeCell",
     "copiedOriginId": null,
     "diskcache": false,
     "headerColor": "inherit",
     "id": "4526e02c-7337-48c1-913c-28efeddc413f",
     "isComponent": false,
     "name": "",
     "parents": []
    }
   },
   "outputs": [
    {
     "name": "stdout",
     "output_type": "stream",
     "text": [
      "Best AUC Score for 5-fold: 0.7016746332312263\n",
      "Spent time: 1.6160330772399902\n",
      "\n"
     ]
    }
   ],
   "source": [
    "# parameters for decision tree\n",
    "param_distributions_df = {\n",
    "    \"max_depth\": range(20, 100, 2),\n",
    "    \"min_samples_split\": range(2, 10),\n",
    "}\n",
    "\n",
    "clf = DecisionTreeClassifier()\n",
    "\n",
    "# training\n",
    "LSD_model = train(LSD_feature_train, LSD_label_train, clf, param_distributions_df)"
   ]
  },
  {
   "cell_type": "code",
   "execution_count": 38,
   "metadata": {
    "canvas": {
     "comments": [],
     "componentType": "CodeCell",
     "copiedOriginId": null,
     "diskcache": false,
     "headerColor": "inherit",
     "id": "046a9050-e625-4cf3-92d3-5fcc0b2357f8",
     "isComponent": false,
     "name": "",
     "parents": []
    }
   },
   "outputs": [
    {
     "name": "stdout",
     "output_type": "stream",
     "text": [
      "Precision: 0.49171270718232046\n",
      "Recall: 0.46842105263157896\n"
     ]
    },
    {
     "data": {
      "image/png": "[encoded data removed]",
      "text/plain": [
       "<Figure size 432x288 with 2 Axes>"
      ]
     },
     "metadata": {
      "needs_background": "light"
     },
     "output_type": "display_data"
    },
    {
     "name": "stderr",
     "output_type": "stream",
     "text": [
      "/opt/anaconda3/lib/python3.7/site-packages/sklearn/utils/deprecation.py:87: FutureWarning: Function plot_roc_curve is deprecated; Function `plot_roc_curve` is deprecated in 1.0 and will be removed in 1.2. Use one of the class methods: RocCurveDisplay.from_predictions or RocCurveDisplay.from_estimator.\n",
      "  warnings.warn(msg, category=FutureWarning)\n"
     ]
    },
    {
     "data": {
      "image/png": "[encoded data removed]",
      "text/plain": [
       "<Figure size 432x288 with 1 Axes>"
      ]
     },
     "metadata": {
      "needs_background": "light"
     },
     "output_type": "display_data"
    }
   ],
   "source": [
    "test(LSD_feature_test, LSD_label_test, LSD_model)"
   ]
  },
  {
   "cell_type": "markdown",
   "metadata": {
    "canvas": {
     "comments": [],
     "componentType": "CodeCell",
     "copiedOriginId": null,
     "diskcache": false,
     "headerColor": "inherit",
     "id": "a994b5ed-85cc-4a64-8105-2f757b0cfa0c",
     "isComponent": false,
     "name": "",
     "parents": []
    }
   },
   "source": [
    "### Label 7: VSA\n",
    "\n",
    "- Classifier: KNN\n",
    "- Selected features: 'Age', 'Education', 'Escore', 'Ascore', 'Cscore', 'Gender'"
   ]
  },
  {
   "cell_type": "code",
   "execution_count": 39,
   "metadata": {
    "canvas": {
     "comments": [],
     "componentType": "CodeCell",
     "copiedOriginId": null,
     "diskcache": false,
     "headerColor": "inherit",
     "id": "9d79382a-db69-44b5-ad92-194218cbbf7b",
     "isComponent": false,
     "name": "",
     "parents": []
    }
   },
   "outputs": [],
   "source": [
    "features = ['Age', 'Education', 'Escore', 'Ascore', 'Cscore', 'Gender']\n",
    "VSA_feature_train, VSA_feature_test   = X_train[features], X_test[features]"
   ]
  },
  {
   "cell_type": "code",
   "execution_count": 40,
   "metadata": {
    "canvas": {
     "comments": [],
     "componentType": "CodeCell",
     "copiedOriginId": null,
     "diskcache": false,
     "headerColor": "inherit",
     "id": "80d23cdb-360b-4790-b12a-753b18f5df28",
     "isComponent": false,
     "name": "",
     "parents": []
    }
   },
   "outputs": [],
   "source": [
    "VSA_label_train, VSA_label_test = y_train['VSA'].astype('int'), y_test['VSA'].astype('int')"
   ]
  },
  {
   "cell_type": "code",
   "execution_count": 41,
   "metadata": {
    "canvas": {
     "comments": [],
     "componentType": "CodeCell",
     "copiedOriginId": null,
     "diskcache": false,
     "headerColor": "inherit",
     "id": "b2b0107d-b9f3-42bd-b438-f2a2e1986cda",
     "isComponent": false,
     "name": "",
     "parents": []
    }
   },
   "outputs": [
    {
     "name": "stdout",
     "output_type": "stream",
     "text": [
      "Number of class 0 in train: 1113\n",
      "Number of class 1 in train: 149\n",
      "Number of class 0 in test: 542\n",
      "Number of class 1 in test: 81\n"
     ]
    }
   ],
   "source": [
    "print(\"Number of class 0 in train:\", len(VSA_label_train[VSA_label_train==0]))\n",
    "print(\"Number of class 1 in train:\", len(VSA_label_train[VSA_label_train==1]))\n",
    "print(\"Number of class 0 in test:\", len(VSA_label_test[VSA_label_test==0]))\n",
    "print(\"Number of class 1 in test:\", len(VSA_label_test[VSA_label_test==1]))"
   ]
  },
  {
   "cell_type": "code",
   "execution_count": 42,
   "metadata": {
    "canvas": {
     "comments": [],
     "componentType": "CodeCell",
     "copiedOriginId": null,
     "diskcache": false,
     "headerColor": "inherit",
     "id": "0820f1ab-90f5-4809-a351-9f25e198090a",
     "isComponent": false,
     "name": "",
     "parents": []
    }
   },
   "outputs": [
    {
     "name": "stdout",
     "output_type": "stream",
     "text": [
      "Best AUC Score for 5-fold: 0.6349177111238344\n",
      "Spent time: 1.6716327667236328\n",
      "\n"
     ]
    }
   ],
   "source": [
    "# parameters for decision tree\n",
    "param_distributions_df = {\n",
    "    \"max_depth\": range(20, 100, 2),\n",
    "    \"min_samples_split\": range(2, 10),\n",
    "}\n",
    "\n",
    "clf = DecisionTreeClassifier()\n",
    "\n",
    "# training\n",
    "VSA_model = train(VSA_feature_train, VSA_label_train, clf, param_distributions_df)"
   ]
  },
  {
   "cell_type": "code",
   "execution_count": 44,
   "metadata": {
    "canvas": {
     "comments": [],
     "componentType": "CodeCell",
     "copiedOriginId": null,
     "diskcache": false,
     "headerColor": "inherit",
     "id": "7878defe-0659-4292-b4ff-bab10900929f",
     "isComponent": false,
     "name": "",
     "parents": []
    }
   },
   "outputs": [
    {
     "name": "stdout",
     "output_type": "stream",
     "text": [
      "Precision: 0.2903225806451613\n",
      "Recall: 0.2222222222222222\n"
     ]
    },
    {
     "data": {
      "image/png": "[encoded data removed]",
      "text/plain": [
       "<Figure size 432x288 with 2 Axes>"
      ]
     },
     "metadata": {
      "needs_background": "light"
     },
     "output_type": "display_data"
    },
    {
     "name": "stderr",
     "output_type": "stream",
     "text": [
      "/opt/anaconda3/lib/python3.7/site-packages/sklearn/utils/deprecation.py:87: FutureWarning: Function plot_roc_curve is deprecated; Function `plot_roc_curve` is deprecated in 1.0 and will be removed in 1.2. Use one of the class methods: RocCurveDisplay.from_predictions or RocCurveDisplay.from_estimator.\n",
      "  warnings.warn(msg, category=FutureWarning)\n"
     ]
    },
    {
     "data": {
      "image/png": "[encoded data removed]",
      "text/plain": [
       "<Figure size 432x288 with 1 Axes>"
      ]
     },
     "metadata": {
      "needs_background": "light"
     },
     "output_type": "display_data"
    }
   ],
   "source": [
    "test(VSA_feature_test, VSA_label_test, VSA_model)"
   ]
  },
  {
   "cell_type": "code",
   "execution_count": null,
   "metadata": {
    "canvas": {
     "comments": [],
     "componentType": "CodeCell",
     "copiedOriginId": null,
     "diskcache": false,
     "headerColor": "inherit",
     "id": "b51a4f64-8ac4-4bae-a521-cc63e567de3a",
     "isComponent": false,
     "name": "",
     "parents": []
    }
   },
   "outputs": [],
   "source": []
  }
 ],
 "metadata": {
  "canvas": {
   "colorPalette": [
    "inherit",
    "inherit",
    "inherit",
    "inherit",
    "inherit",
    "inherit",
    "inherit",
    "inherit",
    "inherit",
    "inherit"
   ],
   "parameters": [],
   "version": "1.0"
  },
  "kernelspec": {
   "display_name": "Python 3",
   "language": "python",
   "name": "python3"
  },
  "language_info": {
   "codemirror_mode": {
    "name": "ipython",
    "version": 3
   },
   "file_extension": ".py",
   "mimetype": "text/x-python",
   "name": "python",
   "nbconvert_exporter": "python",
   "pygments_lexer": "ipython3",
   "version": "3.7.9"
  },
  "vscode": {
   "interpreter": {
    "hash": "40d3a090f54c6569ab1632332b64b2c03c39dcf918b08424e98f38b5ae0af88f"
   }
  }
 },
 "nbformat": 4,
 "nbformat_minor": 4
}
